{
 "cells": [
  {
   "cell_type": "markdown",
   "id": "1cc6ea95-8892-42c1-b4d2-f3adcf1be5c4",
   "metadata": {},
   "source": [
    "## UCI Adult Income Dataset - Exploratory and Descriptive Analysis\n",
    " This note book is focused on the exploratory and descriptive analysis of the cleaned Version"
   ]
  },
  {
   "cell_type": "code",
   "execution_count": 138,
   "id": "25c89912-d33b-4d39-a1f1-7c6056bc5d8c",
   "metadata": {},
   "outputs": [],
   "source": [
    "import pandas as pd \n",
    "import numpy as np \n",
    "import os \n",
    "import plotly.express as px"
   ]
  },
  {
   "cell_type": "markdown",
   "id": "5552f5d6-ab4b-4b3e-a7cf-88f8c4fd8da7",
   "metadata": {},
   "source": [
    "## Define and create Paths"
   ]
  },
  {
   "cell_type": "code",
   "execution_count": 140,
   "id": "667ef60a-c8dc-4523-bf3b-b5da05a9eb65",
   "metadata": {},
   "outputs": [],
   "source": [
    "current_dir= os.getcwd()\n",
    "#go one directory up to the root directory\n",
    "project_root_dir =os.path.dirname(current_dir)\n",
    "#Define paths to the data file\n",
    "data_dir = os.path.join(project_root_dir,\"data\")\n",
    "raw_dir = os.path.join(data_dir,\"raw\")\n",
    "processed_dir = os.path.join(data_dir,'processed')\n",
    "#Define paths to the result fold\n",
    "results_dir = os.path.join(project_root_dir,\"result\") \n",
    "#define path to docs folderabs\n",
    "docs_dir = os.path.join(project_root_dir,\"docs\")\n",
    "\n",
    "#create directory If they do not exist \n",
    "os.makedirs(raw_dir,exist_ok=True)\n",
    "os.makedirs(processed_dir,exist_ok=True)\n",
    "os.makedirs(results_dir,exist_ok=True)\n",
    "os.makedirs(docs_dir,exist_ok=True)"
   ]
  },
  {
   "cell_type": "markdown",
   "id": "486620c2-8401-4fcd-ba1b-2eb70ecbcaee",
   "metadata": {},
   "source": [
    "## Read in the data"
   ]
  },
  {
   "cell_type": "code",
   "execution_count": 142,
   "id": "849a68cf-12dd-436d-870b-0129fa942e3a",
   "metadata": {},
   "outputs": [
    {
     "data": {
      "text/html": [
       "<div>\n",
       "<style scoped>\n",
       "    .dataframe tbody tr th:only-of-type {\n",
       "        vertical-align: middle;\n",
       "    }\n",
       "\n",
       "    .dataframe tbody tr th {\n",
       "        vertical-align: top;\n",
       "    }\n",
       "\n",
       "    .dataframe thead th {\n",
       "        text-align: right;\n",
       "    }\n",
       "</style>\n",
       "<table border=\"1\" class=\"dataframe\">\n",
       "  <thead>\n",
       "    <tr style=\"text-align: right;\">\n",
       "      <th></th>\n",
       "      <th>age</th>\n",
       "      <th>workclass</th>\n",
       "      <th>fnlwgt</th>\n",
       "      <th>education_num</th>\n",
       "      <th>marital_status</th>\n",
       "      <th>relationship</th>\n",
       "      <th>race</th>\n",
       "      <th>sex</th>\n",
       "      <th>capital_gain</th>\n",
       "      <th>capital_loss</th>\n",
       "      <th>hours_per_week</th>\n",
       "      <th>native_country</th>\n",
       "      <th>income</th>\n",
       "      <th>education_level</th>\n",
       "      <th>occupation_grouped</th>\n",
       "      <th>native_region</th>\n",
       "      <th>age_group</th>\n",
       "    </tr>\n",
       "  </thead>\n",
       "  <tbody>\n",
       "    <tr>\n",
       "      <th>0</th>\n",
       "      <td>39</td>\n",
       "      <td>government</td>\n",
       "      <td>77516</td>\n",
       "      <td>13</td>\n",
       "      <td>single</td>\n",
       "      <td>single</td>\n",
       "      <td>white</td>\n",
       "      <td>male</td>\n",
       "      <td>2174</td>\n",
       "      <td>0</td>\n",
       "      <td>40</td>\n",
       "      <td>united-states</td>\n",
       "      <td>&lt;=50k</td>\n",
       "      <td>tertiary</td>\n",
       "      <td>white collar</td>\n",
       "      <td>north america</td>\n",
       "      <td>36-45</td>\n",
       "    </tr>\n",
       "    <tr>\n",
       "      <th>1</th>\n",
       "      <td>50</td>\n",
       "      <td>self-employed</td>\n",
       "      <td>83311</td>\n",
       "      <td>13</td>\n",
       "      <td>married</td>\n",
       "      <td>male spouse</td>\n",
       "      <td>white</td>\n",
       "      <td>male</td>\n",
       "      <td>0</td>\n",
       "      <td>0</td>\n",
       "      <td>13</td>\n",
       "      <td>united-states</td>\n",
       "      <td>&lt;=50k</td>\n",
       "      <td>tertiary</td>\n",
       "      <td>white collar</td>\n",
       "      <td>north america</td>\n",
       "      <td>46-60</td>\n",
       "    </tr>\n",
       "    <tr>\n",
       "      <th>2</th>\n",
       "      <td>38</td>\n",
       "      <td>private</td>\n",
       "      <td>215646</td>\n",
       "      <td>9</td>\n",
       "      <td>divorced or separated</td>\n",
       "      <td>single</td>\n",
       "      <td>white</td>\n",
       "      <td>male</td>\n",
       "      <td>0</td>\n",
       "      <td>0</td>\n",
       "      <td>40</td>\n",
       "      <td>united-states</td>\n",
       "      <td>&lt;=50k</td>\n",
       "      <td>highschoolgraduate</td>\n",
       "      <td>blue collar</td>\n",
       "      <td>north america</td>\n",
       "      <td>36-45</td>\n",
       "    </tr>\n",
       "    <tr>\n",
       "      <th>3</th>\n",
       "      <td>53</td>\n",
       "      <td>private</td>\n",
       "      <td>234721</td>\n",
       "      <td>7</td>\n",
       "      <td>married</td>\n",
       "      <td>male spouse</td>\n",
       "      <td>black</td>\n",
       "      <td>male</td>\n",
       "      <td>0</td>\n",
       "      <td>0</td>\n",
       "      <td>40</td>\n",
       "      <td>united-states</td>\n",
       "      <td>&lt;=50k</td>\n",
       "      <td>secondary</td>\n",
       "      <td>blue collar</td>\n",
       "      <td>north america</td>\n",
       "      <td>46-60</td>\n",
       "    </tr>\n",
       "    <tr>\n",
       "      <th>4</th>\n",
       "      <td>28</td>\n",
       "      <td>private</td>\n",
       "      <td>338409</td>\n",
       "      <td>13</td>\n",
       "      <td>married</td>\n",
       "      <td>female spouse</td>\n",
       "      <td>black</td>\n",
       "      <td>female</td>\n",
       "      <td>0</td>\n",
       "      <td>0</td>\n",
       "      <td>40</td>\n",
       "      <td>cuba</td>\n",
       "      <td>&lt;=50k</td>\n",
       "      <td>tertiary</td>\n",
       "      <td>white collar</td>\n",
       "      <td>central america</td>\n",
       "      <td>26-35</td>\n",
       "    </tr>\n",
       "    <tr>\n",
       "      <th>5</th>\n",
       "      <td>37</td>\n",
       "      <td>private</td>\n",
       "      <td>284582</td>\n",
       "      <td>14</td>\n",
       "      <td>married</td>\n",
       "      <td>female spouse</td>\n",
       "      <td>white</td>\n",
       "      <td>female</td>\n",
       "      <td>0</td>\n",
       "      <td>0</td>\n",
       "      <td>40</td>\n",
       "      <td>united-states</td>\n",
       "      <td>&lt;=50k</td>\n",
       "      <td>tertiary</td>\n",
       "      <td>white collar</td>\n",
       "      <td>north america</td>\n",
       "      <td>36-45</td>\n",
       "    </tr>\n",
       "    <tr>\n",
       "      <th>6</th>\n",
       "      <td>49</td>\n",
       "      <td>private</td>\n",
       "      <td>160187</td>\n",
       "      <td>5</td>\n",
       "      <td>divorced or separated</td>\n",
       "      <td>single</td>\n",
       "      <td>black</td>\n",
       "      <td>female</td>\n",
       "      <td>0</td>\n",
       "      <td>0</td>\n",
       "      <td>16</td>\n",
       "      <td>jamaica</td>\n",
       "      <td>&lt;=50k</td>\n",
       "      <td>secondary</td>\n",
       "      <td>service</td>\n",
       "      <td>central america</td>\n",
       "      <td>46-60</td>\n",
       "    </tr>\n",
       "    <tr>\n",
       "      <th>7</th>\n",
       "      <td>52</td>\n",
       "      <td>self-employed</td>\n",
       "      <td>209642</td>\n",
       "      <td>9</td>\n",
       "      <td>married</td>\n",
       "      <td>male spouse</td>\n",
       "      <td>white</td>\n",
       "      <td>male</td>\n",
       "      <td>0</td>\n",
       "      <td>0</td>\n",
       "      <td>45</td>\n",
       "      <td>united-states</td>\n",
       "      <td>&gt;50k</td>\n",
       "      <td>highschoolgraduate</td>\n",
       "      <td>white collar</td>\n",
       "      <td>north america</td>\n",
       "      <td>46-60</td>\n",
       "    </tr>\n",
       "    <tr>\n",
       "      <th>8</th>\n",
       "      <td>31</td>\n",
       "      <td>private</td>\n",
       "      <td>45781</td>\n",
       "      <td>14</td>\n",
       "      <td>single</td>\n",
       "      <td>single</td>\n",
       "      <td>white</td>\n",
       "      <td>female</td>\n",
       "      <td>14084</td>\n",
       "      <td>0</td>\n",
       "      <td>50</td>\n",
       "      <td>united-states</td>\n",
       "      <td>&gt;50k</td>\n",
       "      <td>tertiary</td>\n",
       "      <td>white collar</td>\n",
       "      <td>north america</td>\n",
       "      <td>26-35</td>\n",
       "    </tr>\n",
       "    <tr>\n",
       "      <th>9</th>\n",
       "      <td>42</td>\n",
       "      <td>private</td>\n",
       "      <td>159449</td>\n",
       "      <td>13</td>\n",
       "      <td>married</td>\n",
       "      <td>male spouse</td>\n",
       "      <td>white</td>\n",
       "      <td>male</td>\n",
       "      <td>5178</td>\n",
       "      <td>0</td>\n",
       "      <td>40</td>\n",
       "      <td>united-states</td>\n",
       "      <td>&gt;50k</td>\n",
       "      <td>tertiary</td>\n",
       "      <td>white collar</td>\n",
       "      <td>north america</td>\n",
       "      <td>36-45</td>\n",
       "    </tr>\n",
       "  </tbody>\n",
       "</table>\n",
       "</div>"
      ],
      "text/plain": [
       "   age      workclass  fnlwgt  education_num         marital_status  \\\n",
       "0   39     government   77516             13                 single   \n",
       "1   50  self-employed   83311             13                married   \n",
       "2   38        private  215646              9  divorced or separated   \n",
       "3   53        private  234721              7                married   \n",
       "4   28        private  338409             13                married   \n",
       "5   37        private  284582             14                married   \n",
       "6   49        private  160187              5  divorced or separated   \n",
       "7   52  self-employed  209642              9                married   \n",
       "8   31        private   45781             14                 single   \n",
       "9   42        private  159449             13                married   \n",
       "\n",
       "    relationship   race     sex  capital_gain  capital_loss  hours_per_week  \\\n",
       "0         single  white    male          2174             0              40   \n",
       "1    male spouse  white    male             0             0              13   \n",
       "2         single  white    male             0             0              40   \n",
       "3    male spouse  black    male             0             0              40   \n",
       "4  female spouse  black  female             0             0              40   \n",
       "5  female spouse  white  female             0             0              40   \n",
       "6         single  black  female             0             0              16   \n",
       "7    male spouse  white    male             0             0              45   \n",
       "8         single  white  female         14084             0              50   \n",
       "9    male spouse  white    male          5178             0              40   \n",
       "\n",
       "  native_country income     education_level occupation_grouped  \\\n",
       "0  united-states  <=50k            tertiary       white collar   \n",
       "1  united-states  <=50k            tertiary       white collar   \n",
       "2  united-states  <=50k  highschoolgraduate        blue collar   \n",
       "3  united-states  <=50k           secondary        blue collar   \n",
       "4           cuba  <=50k            tertiary       white collar   \n",
       "5  united-states  <=50k            tertiary       white collar   \n",
       "6        jamaica  <=50k           secondary            service   \n",
       "7  united-states   >50k  highschoolgraduate       white collar   \n",
       "8  united-states   >50k            tertiary       white collar   \n",
       "9  united-states   >50k            tertiary       white collar   \n",
       "\n",
       "     native_region age_group  \n",
       "0    north america     36-45  \n",
       "1    north america     46-60  \n",
       "2    north america     36-45  \n",
       "3    north america     46-60  \n",
       "4  central america     26-35  \n",
       "5    north america     36-45  \n",
       "6  central america     46-60  \n",
       "7    north america     46-60  \n",
       "8    north america     26-35  \n",
       "9    north america     36-45  "
      ]
     },
     "execution_count": 142,
     "metadata": {},
     "output_type": "execute_result"
    }
   ],
   "source": [
    "adult_data_filename = os.path.join(processed_dir, 'adults_cleaned.csv')\n",
    "adult_df = pd.read_csv(adult_data_filename)\n",
    "adult_df.head(10)"
   ]
  },
  {
   "cell_type": "markdown",
   "id": "033efb67-8972-4003-a89d-9dcd40e8e5dc",
   "metadata": {},
   "source": [
    "### Check the shape of the dataset and datatypes"
   ]
  },
  {
   "cell_type": "code",
   "execution_count": 144,
   "id": "5944b30a-4bcc-41fb-bffe-f672eec7152e",
   "metadata": {},
   "outputs": [
    {
     "data": {
      "text/plain": [
       "(32514, 17)"
      ]
     },
     "execution_count": 144,
     "metadata": {},
     "output_type": "execute_result"
    }
   ],
   "source": [
    "adult_df.shape"
   ]
  },
  {
   "cell_type": "code",
   "execution_count": 145,
   "id": "27669c6b-4290-4a87-b399-0b2fe55785e1",
   "metadata": {},
   "outputs": [
    {
     "name": "stdout",
     "output_type": "stream",
     "text": [
      "<class 'pandas.core.frame.DataFrame'>\n",
      "RangeIndex: 32514 entries, 0 to 32513\n",
      "Data columns (total 17 columns):\n",
      " #   Column              Non-Null Count  Dtype \n",
      "---  ------              --------------  ----- \n",
      " 0   age                 32514 non-null  int64 \n",
      " 1   workclass           32514 non-null  object\n",
      " 2   fnlwgt              32514 non-null  int64 \n",
      " 3   education_num       32514 non-null  int64 \n",
      " 4   marital_status      32514 non-null  object\n",
      " 5   relationship        32514 non-null  object\n",
      " 6   race                32514 non-null  object\n",
      " 7   sex                 32514 non-null  object\n",
      " 8   capital_gain        32514 non-null  int64 \n",
      " 9   capital_loss        32514 non-null  int64 \n",
      " 10  hours_per_week      32514 non-null  int64 \n",
      " 11  native_country      32514 non-null  object\n",
      " 12  income              32514 non-null  object\n",
      " 13  education_level     32514 non-null  object\n",
      " 14  occupation_grouped  32514 non-null  object\n",
      " 15  native_region       32514 non-null  object\n",
      " 16  age_group           32514 non-null  object\n",
      "dtypes: int64(6), object(11)\n",
      "memory usage: 4.2+ MB\n"
     ]
    }
   ],
   "source": [
    "adult_df.info()"
   ]
  },
  {
   "cell_type": "markdown",
   "id": "061938f0-276e-48fb-8135-5a6d81b1c86e",
   "metadata": {},
   "source": [
    "## Summary statistics"
   ]
  },
  {
   "cell_type": "code",
   "execution_count": 147,
   "id": "036b6f7a-29ec-4bc4-a418-7ce4b7778763",
   "metadata": {},
   "outputs": [
    {
     "data": {
      "text/html": [
       "<div>\n",
       "<style scoped>\n",
       "    .dataframe tbody tr th:only-of-type {\n",
       "        vertical-align: middle;\n",
       "    }\n",
       "\n",
       "    .dataframe tbody tr th {\n",
       "        vertical-align: top;\n",
       "    }\n",
       "\n",
       "    .dataframe thead th {\n",
       "        text-align: right;\n",
       "    }\n",
       "</style>\n",
       "<table border=\"1\" class=\"dataframe\">\n",
       "  <thead>\n",
       "    <tr style=\"text-align: right;\">\n",
       "      <th></th>\n",
       "      <th>age</th>\n",
       "      <th>workclass</th>\n",
       "      <th>fnlwgt</th>\n",
       "      <th>education_num</th>\n",
       "      <th>marital_status</th>\n",
       "      <th>relationship</th>\n",
       "      <th>race</th>\n",
       "      <th>sex</th>\n",
       "      <th>capital_gain</th>\n",
       "      <th>capital_loss</th>\n",
       "      <th>hours_per_week</th>\n",
       "      <th>native_country</th>\n",
       "      <th>income</th>\n",
       "      <th>education_level</th>\n",
       "      <th>occupation_grouped</th>\n",
       "      <th>native_region</th>\n",
       "      <th>age_group</th>\n",
       "    </tr>\n",
       "  </thead>\n",
       "  <tbody>\n",
       "  </tbody>\n",
       "</table>\n",
       "</div>"
      ],
      "text/plain": [
       "Empty DataFrame\n",
       "Columns: [age, workclass, fnlwgt, education_num, marital_status, relationship, race, sex, capital_gain, capital_loss, hours_per_week, native_country, income, education_level, occupation_grouped, native_region, age_group]\n",
       "Index: []"
      ]
     },
     "execution_count": 147,
     "metadata": {},
     "output_type": "execute_result"
    }
   ],
   "source": [
    "adult_df[adult_df.duplicated(keep=False)]"
   ]
  },
  {
   "cell_type": "code",
   "execution_count": 148,
   "id": "248e1d6b-07a5-4e91-95eb-a5550ad7634b",
   "metadata": {},
   "outputs": [
    {
     "data": {
      "text/html": [
       "<div>\n",
       "<style scoped>\n",
       "    .dataframe tbody tr th:only-of-type {\n",
       "        vertical-align: middle;\n",
       "    }\n",
       "\n",
       "    .dataframe tbody tr th {\n",
       "        vertical-align: top;\n",
       "    }\n",
       "\n",
       "    .dataframe thead th {\n",
       "        text-align: right;\n",
       "    }\n",
       "</style>\n",
       "<table border=\"1\" class=\"dataframe\">\n",
       "  <thead>\n",
       "    <tr style=\"text-align: right;\">\n",
       "      <th></th>\n",
       "      <th>age</th>\n",
       "      <th>fnlwgt</th>\n",
       "      <th>education_num</th>\n",
       "      <th>capital_gain</th>\n",
       "      <th>capital_loss</th>\n",
       "      <th>hours_per_week</th>\n",
       "    </tr>\n",
       "  </thead>\n",
       "  <tbody>\n",
       "    <tr>\n",
       "      <th>count</th>\n",
       "      <td>32514.000000</td>\n",
       "      <td>3.251400e+04</td>\n",
       "      <td>32514.000000</td>\n",
       "      <td>32514.000000</td>\n",
       "      <td>32514.000000</td>\n",
       "      <td>32514.000000</td>\n",
       "    </tr>\n",
       "    <tr>\n",
       "      <th>mean</th>\n",
       "      <td>38.589684</td>\n",
       "      <td>1.897916e+05</td>\n",
       "      <td>10.081626</td>\n",
       "      <td>1079.206619</td>\n",
       "      <td>87.430030</td>\n",
       "      <td>40.440026</td>\n",
       "    </tr>\n",
       "    <tr>\n",
       "      <th>std</th>\n",
       "      <td>13.639112</td>\n",
       "      <td>1.055782e+05</td>\n",
       "      <td>2.571975</td>\n",
       "      <td>7390.514416</td>\n",
       "      <td>403.237687</td>\n",
       "      <td>12.351147</td>\n",
       "    </tr>\n",
       "    <tr>\n",
       "      <th>min</th>\n",
       "      <td>17.000000</td>\n",
       "      <td>1.228500e+04</td>\n",
       "      <td>1.000000</td>\n",
       "      <td>0.000000</td>\n",
       "      <td>0.000000</td>\n",
       "      <td>1.000000</td>\n",
       "    </tr>\n",
       "    <tr>\n",
       "      <th>25%</th>\n",
       "      <td>28.000000</td>\n",
       "      <td>1.178285e+05</td>\n",
       "      <td>9.000000</td>\n",
       "      <td>0.000000</td>\n",
       "      <td>0.000000</td>\n",
       "      <td>40.000000</td>\n",
       "    </tr>\n",
       "    <tr>\n",
       "      <th>50%</th>\n",
       "      <td>37.000000</td>\n",
       "      <td>1.783560e+05</td>\n",
       "      <td>10.000000</td>\n",
       "      <td>0.000000</td>\n",
       "      <td>0.000000</td>\n",
       "      <td>40.000000</td>\n",
       "    </tr>\n",
       "    <tr>\n",
       "      <th>75%</th>\n",
       "      <td>48.000000</td>\n",
       "      <td>2.370492e+05</td>\n",
       "      <td>12.000000</td>\n",
       "      <td>0.000000</td>\n",
       "      <td>0.000000</td>\n",
       "      <td>45.000000</td>\n",
       "    </tr>\n",
       "    <tr>\n",
       "      <th>max</th>\n",
       "      <td>90.000000</td>\n",
       "      <td>1.484705e+06</td>\n",
       "      <td>16.000000</td>\n",
       "      <td>99999.000000</td>\n",
       "      <td>4356.000000</td>\n",
       "      <td>99.000000</td>\n",
       "    </tr>\n",
       "  </tbody>\n",
       "</table>\n",
       "</div>"
      ],
      "text/plain": [
       "                age        fnlwgt  education_num  capital_gain  capital_loss  \\\n",
       "count  32514.000000  3.251400e+04   32514.000000  32514.000000  32514.000000   \n",
       "mean      38.589684  1.897916e+05      10.081626   1079.206619     87.430030   \n",
       "std       13.639112  1.055782e+05       2.571975   7390.514416    403.237687   \n",
       "min       17.000000  1.228500e+04       1.000000      0.000000      0.000000   \n",
       "25%       28.000000  1.178285e+05       9.000000      0.000000      0.000000   \n",
       "50%       37.000000  1.783560e+05      10.000000      0.000000      0.000000   \n",
       "75%       48.000000  2.370492e+05      12.000000      0.000000      0.000000   \n",
       "max       90.000000  1.484705e+06      16.000000  99999.000000   4356.000000   \n",
       "\n",
       "       hours_per_week  \n",
       "count    32514.000000  \n",
       "mean        40.440026  \n",
       "std         12.351147  \n",
       "min          1.000000  \n",
       "25%         40.000000  \n",
       "50%         40.000000  \n",
       "75%         45.000000  \n",
       "max         99.000000  "
      ]
     },
     "execution_count": 148,
     "metadata": {},
     "output_type": "execute_result"
    }
   ],
   "source": [
    "adult_df.describe()"
   ]
  },
  {
   "cell_type": "code",
   "execution_count": 149,
   "id": "7f5f7f35-5fea-4f9e-acf7-02aa590079ca",
   "metadata": {},
   "outputs": [
    {
     "data": {
      "text/html": [
       "<div>\n",
       "<style scoped>\n",
       "    .dataframe tbody tr th:only-of-type {\n",
       "        vertical-align: middle;\n",
       "    }\n",
       "\n",
       "    .dataframe tbody tr th {\n",
       "        vertical-align: top;\n",
       "    }\n",
       "\n",
       "    .dataframe thead th {\n",
       "        text-align: right;\n",
       "    }\n",
       "</style>\n",
       "<table border=\"1\" class=\"dataframe\">\n",
       "  <thead>\n",
       "    <tr style=\"text-align: right;\">\n",
       "      <th></th>\n",
       "      <th>workclass</th>\n",
       "      <th>marital_status</th>\n",
       "      <th>relationship</th>\n",
       "      <th>race</th>\n",
       "      <th>sex</th>\n",
       "      <th>native_country</th>\n",
       "      <th>income</th>\n",
       "      <th>education_level</th>\n",
       "      <th>occupation_grouped</th>\n",
       "      <th>native_region</th>\n",
       "      <th>age_group</th>\n",
       "    </tr>\n",
       "  </thead>\n",
       "  <tbody>\n",
       "    <tr>\n",
       "      <th>count</th>\n",
       "      <td>32514</td>\n",
       "      <td>32514</td>\n",
       "      <td>32514</td>\n",
       "      <td>32514</td>\n",
       "      <td>32514</td>\n",
       "      <td>32514</td>\n",
       "      <td>32514</td>\n",
       "      <td>32514</td>\n",
       "      <td>32514</td>\n",
       "      <td>32514</td>\n",
       "      <td>32514</td>\n",
       "    </tr>\n",
       "    <tr>\n",
       "      <th>unique</th>\n",
       "      <td>7</td>\n",
       "      <td>4</td>\n",
       "      <td>5</td>\n",
       "      <td>5</td>\n",
       "      <td>2</td>\n",
       "      <td>42</td>\n",
       "      <td>2</td>\n",
       "      <td>7</td>\n",
       "      <td>5</td>\n",
       "      <td>7</td>\n",
       "      <td>7</td>\n",
       "    </tr>\n",
       "    <tr>\n",
       "      <th>top</th>\n",
       "      <td>private</td>\n",
       "      <td>married</td>\n",
       "      <td>male spouse</td>\n",
       "      <td>white</td>\n",
       "      <td>male</td>\n",
       "      <td>united-states</td>\n",
       "      <td>&lt;=50k</td>\n",
       "      <td>highschoolgraduate</td>\n",
       "      <td>white collar</td>\n",
       "      <td>north america</td>\n",
       "      <td>26-35</td>\n",
       "    </tr>\n",
       "    <tr>\n",
       "      <th>freq</th>\n",
       "      <td>22651</td>\n",
       "      <td>14984</td>\n",
       "      <td>13178</td>\n",
       "      <td>27772</td>\n",
       "      <td>21758</td>\n",
       "      <td>29131</td>\n",
       "      <td>24678</td>\n",
       "      <td>10484</td>\n",
       "      <td>16533</td>\n",
       "      <td>30019</td>\n",
       "      <td>8501</td>\n",
       "    </tr>\n",
       "  </tbody>\n",
       "</table>\n",
       "</div>"
      ],
      "text/plain": [
       "       workclass marital_status relationship   race    sex native_country  \\\n",
       "count      32514          32514        32514  32514  32514          32514   \n",
       "unique         7              4            5      5      2             42   \n",
       "top      private        married  male spouse  white   male  united-states   \n",
       "freq       22651          14984        13178  27772  21758          29131   \n",
       "\n",
       "       income     education_level occupation_grouped  native_region age_group  \n",
       "count   32514               32514              32514          32514     32514  \n",
       "unique      2                   7                  5              7         7  \n",
       "top     <=50k  highschoolgraduate       white collar  north america     26-35  \n",
       "freq    24678               10484              16533          30019      8501  "
      ]
     },
     "execution_count": 149,
     "metadata": {},
     "output_type": "execute_result"
    }
   ],
   "source": [
    "adult_df.describe(include='object')"
   ]
  },
  {
   "cell_type": "code",
   "execution_count": 150,
   "id": "59cf9e6b-7272-4975-8fc8-0a12ee724aaf",
   "metadata": {},
   "outputs": [
    {
     "data": {
      "text/plain": [
       "workclass\n",
       "private          0.696654\n",
       "self-employed    0.112444\n",
       "government       0.069416\n",
       "local-gov        0.064372\n",
       "unknown          0.056468\n",
       "voluntary        0.000431\n",
       "unemployed       0.000215\n",
       "Name: proportion, dtype: float64"
      ]
     },
     "execution_count": 150,
     "metadata": {},
     "output_type": "execute_result"
    }
   ],
   "source": [
    "adult_df['workclass'].value_counts(normalize=True)"
   ]
  },
  {
   "cell_type": "code",
   "execution_count": 151,
   "id": "12c9615f-7036-4fca-851a-6879288ef406",
   "metadata": {},
   "outputs": [
    {
     "data": {
      "text/plain": [
       "race\n",
       "white                        0.854155\n",
       "black                        0.096020\n",
       "asian or pacific islander    0.031925\n",
       "american indian or eskimo    0.009565\n",
       "other                        0.008335\n",
       "Name: proportion, dtype: float64"
      ]
     },
     "execution_count": 151,
     "metadata": {},
     "output_type": "execute_result"
    }
   ],
   "source": [
    "adult_df['race'].value_counts(normalize=True)"
   ]
  },
  {
   "cell_type": "markdown",
   "id": "a5ead964-5daa-4a54-a256-503816fede73",
   "metadata": {},
   "source": [
    "## Incame distribution"
   ]
  },
  {
   "cell_type": "code",
   "execution_count": 153,
   "id": "98ac926a-7f5b-40fb-82dd-d78e779ce43e",
   "metadata": {},
   "outputs": [
    {
     "data": {
      "text/html": [
       "<div>\n",
       "<style scoped>\n",
       "    .dataframe tbody tr th:only-of-type {\n",
       "        vertical-align: middle;\n",
       "    }\n",
       "\n",
       "    .dataframe tbody tr th {\n",
       "        vertical-align: top;\n",
       "    }\n",
       "\n",
       "    .dataframe thead th {\n",
       "        text-align: right;\n",
       "    }\n",
       "</style>\n",
       "<table border=\"1\" class=\"dataframe\">\n",
       "  <thead>\n",
       "    <tr style=\"text-align: right;\">\n",
       "      <th></th>\n",
       "      <th>income</th>\n",
       "      <th>total</th>\n",
       "    </tr>\n",
       "  </thead>\n",
       "  <tbody>\n",
       "    <tr>\n",
       "      <th>0</th>\n",
       "      <td>&lt;=50k</td>\n",
       "      <td>24678</td>\n",
       "    </tr>\n",
       "    <tr>\n",
       "      <th>1</th>\n",
       "      <td>&gt;50k</td>\n",
       "      <td>7836</td>\n",
       "    </tr>\n",
       "  </tbody>\n",
       "</table>\n",
       "</div>"
      ],
      "text/plain": [
       "  income  total\n",
       "0  <=50k  24678\n",
       "1   >50k   7836"
      ]
     },
     "execution_count": 153,
     "metadata": {},
     "output_type": "execute_result"
    }
   ],
   "source": [
    "adult_df_income = adult_df.groupby('income').size().reset_index(name='total')\n",
    "adult_df_income"
   ]
  },
  {
   "cell_type": "code",
   "execution_count": 249,
   "id": "7f169959-7f25-4e96-ac38-11f1f2eb17b9",
   "metadata": {},
   "outputs": [
    {
     "data": {
      "application/vnd.plotly.v1+json": {
       "config": {
        "plotlyServerURL": "https://plot.ly"
       },
       "data": [
        {
         "domain": {
          "x": [
           0,
           1
          ],
          "y": [
           0,
           1
          ]
         },
         "hovertemplate": "income=%{label}<br>total=%{value}<extra></extra>",
         "labels": [
          "<=50k",
          ">50k"
         ],
         "legendgroup": "",
         "name": "",
         "showlegend": true,
         "type": "pie",
         "values": {
          "_inputArray": {
           "0": 24678,
           "1": 7836,
           "bdata": "ZmCcHg==",
           "dtype": "i2",
           "shape": "2"
          },
          "bdata": "ZmCcHg==",
          "dtype": "i2"
         }
        }
       ],
       "layout": {
        "autosize": true,
        "legend": {
         "tracegroupgap": 0
        },
        "paper_bgcolor": "rgba(0, 0, 0, 0)",
        "piecolorway": [
         "goldenrod",
         "#00D"
        ],
        "plot_bgcolor": "rgba(0, 0, 0, 0)",
        "template": {
         "data": {
          "pie": [
           {
            "automargin": true,
            "type": "pie"
           }
          ],
          "scatter": [
           {
            "line": {
             "width": 3
            },
            "marker": {
             "size": 9
            },
            "type": "scatter"
           }
          ],
          "scatter3d": [
           {
            "line": {
             "width": 3
            },
            "marker": {
             "size": 9
            },
            "type": "scatter3d"
           }
          ],
          "scattergeo": [
           {
            "line": {
             "width": 3
            },
            "marker": {
             "size": 9
            },
            "type": "scattergeo"
           }
          ],
          "scattergl": [
           {
            "line": {
             "width": 3
            },
            "marker": {
             "size": 9
            },
            "type": "scattergl"
           }
          ],
          "scatterpolar": [
           {
            "line": {
             "width": 3
            },
            "marker": {
             "size": 9
            },
            "type": "scatterpolar"
           }
          ],
          "scatterpolargl": [
           {
            "line": {
             "width": 3
            },
            "marker": {
             "size": 9
            },
            "type": "scatterpolargl"
           }
          ],
          "scatterternary": [
           {
            "line": {
             "width": 3
            },
            "marker": {
             "size": 9
            },
            "type": "scatterternary"
           }
          ],
          "table": [
           {
            "cells": {
             "height": 30
            },
            "header": {
             "height": 36
            },
            "type": "table"
           }
          ]
         },
         "layout": {
          "font": {
           "size": 18
          },
          "xaxis": {
           "title": {
            "standoff": 15
           }
          },
          "yaxis": {
           "title": {
            "standoff": 15
           }
          }
         }
        },
        "title": {
         "text": "Overall Incame distribution"
        }
       }
      },
      "image/png": "[encoded data removed]"
     },
     "metadata": {},
     "output_type": "display_data"
    }
   ],
   "source": [
    "fig= px.pie(adult_df_income, names='income',values='total',title='Overall Incame distribution', color_discrete_sequence=[\"goldenrod\",\"#00D\"])\n",
    "# fig.update_layout(template= \"presentation\", paper_bgcolor=\"rgba(0,0,0,0)\", plot_bgcolor=(\"rgba(0,0,0,0,0)\"))\n",
    "# fig.show()\n",
    "fig.update_layout(template=\"presentation\", paper_bgcolor=\"rgba(0,0,0,0)\",plot_bgcolor=(\"rgba(0,0,0,0)\"))\n",
    "fig.show()\n",
    "fig.write_image(os.path.join(results_dir,'income_distribution_pie_chart.jpg'))\n",
    "fig.write_image(os.path.join(results_dir,'income_distribution_pie_chart.png'))\n",
    "fig.write_html(os.path.join(results_dir,'income_distribution_pie_chart.html'))"
   ]
  },
  {
   "cell_type": "markdown",
   "id": "caf4a31e-5de3-4a46-b958-9a10b2633712",
   "metadata": {},
   "source": [
    "## Income by Age Group"
   ]
  },
  {
   "cell_type": "code",
   "execution_count": 156,
   "id": "e0ed7920-08ea-4d47-9457-14e7b3fb856e",
   "metadata": {},
   "outputs": [
    {
     "data": {
      "text/html": [
       "<div>\n",
       "<style scoped>\n",
       "    .dataframe tbody tr th:only-of-type {\n",
       "        vertical-align: middle;\n",
       "    }\n",
       "\n",
       "    .dataframe tbody tr th {\n",
       "        vertical-align: top;\n",
       "    }\n",
       "\n",
       "    .dataframe thead th {\n",
       "        text-align: right;\n",
       "    }\n",
       "</style>\n",
       "<table border=\"1\" class=\"dataframe\">\n",
       "  <thead>\n",
       "    <tr style=\"text-align: right;\">\n",
       "      <th></th>\n",
       "      <th>age_group</th>\n",
       "      <th>income</th>\n",
       "      <th>total_by_age</th>\n",
       "    </tr>\n",
       "  </thead>\n",
       "  <tbody>\n",
       "    <tr>\n",
       "      <th>0</th>\n",
       "      <td>18-25</td>\n",
       "      <td>&lt;=50k</td>\n",
       "      <td>5334</td>\n",
       "    </tr>\n",
       "    <tr>\n",
       "      <th>1</th>\n",
       "      <td>18-25</td>\n",
       "      <td>&gt;50k</td>\n",
       "      <td>114</td>\n",
       "    </tr>\n",
       "    <tr>\n",
       "      <th>2</th>\n",
       "      <td>26-35</td>\n",
       "      <td>&lt;=50k</td>\n",
       "      <td>6910</td>\n",
       "    </tr>\n",
       "    <tr>\n",
       "      <th>3</th>\n",
       "      <td>26-35</td>\n",
       "      <td>&gt;50k</td>\n",
       "      <td>1591</td>\n",
       "    </tr>\n",
       "    <tr>\n",
       "      <th>4</th>\n",
       "      <td>36-45</td>\n",
       "      <td>&lt;=50k</td>\n",
       "      <td>5230</td>\n",
       "    </tr>\n",
       "    <tr>\n",
       "      <th>5</th>\n",
       "      <td>36-45</td>\n",
       "      <td>&gt;50k</td>\n",
       "      <td>2771</td>\n",
       "    </tr>\n",
       "    <tr>\n",
       "      <th>6</th>\n",
       "      <td>46-60</td>\n",
       "      <td>&lt;=50k</td>\n",
       "      <td>4479</td>\n",
       "    </tr>\n",
       "    <tr>\n",
       "      <th>7</th>\n",
       "      <td>46-60</td>\n",
       "      <td>&gt;50k</td>\n",
       "      <td>2809</td>\n",
       "    </tr>\n",
       "    <tr>\n",
       "      <th>8</th>\n",
       "      <td>61-75</td>\n",
       "      <td>&lt;=50k</td>\n",
       "      <td>1580</td>\n",
       "    </tr>\n",
       "    <tr>\n",
       "      <th>9</th>\n",
       "      <td>61-75</td>\n",
       "      <td>&gt;50k</td>\n",
       "      <td>511</td>\n",
       "    </tr>\n",
       "    <tr>\n",
       "      <th>10</th>\n",
       "      <td>76+</td>\n",
       "      <td>&lt;=50k</td>\n",
       "      <td>200</td>\n",
       "    </tr>\n",
       "    <tr>\n",
       "      <th>11</th>\n",
       "      <td>76+</td>\n",
       "      <td>&gt;50k</td>\n",
       "      <td>40</td>\n",
       "    </tr>\n",
       "    <tr>\n",
       "      <th>12</th>\n",
       "      <td>&lt;18</td>\n",
       "      <td>&lt;=50k</td>\n",
       "      <td>945</td>\n",
       "    </tr>\n",
       "  </tbody>\n",
       "</table>\n",
       "</div>"
      ],
      "text/plain": [
       "   age_group income  total_by_age\n",
       "0      18-25  <=50k          5334\n",
       "1      18-25   >50k           114\n",
       "2      26-35  <=50k          6910\n",
       "3      26-35   >50k          1591\n",
       "4      36-45  <=50k          5230\n",
       "5      36-45   >50k          2771\n",
       "6      46-60  <=50k          4479\n",
       "7      46-60   >50k          2809\n",
       "8      61-75  <=50k          1580\n",
       "9      61-75   >50k           511\n",
       "10       76+  <=50k           200\n",
       "11       76+   >50k            40\n",
       "12       <18  <=50k           945"
      ]
     },
     "execution_count": 156,
     "metadata": {},
     "output_type": "execute_result"
    }
   ],
   "source": [
    "adult_df_income_age = adult_df.groupby(['age_group','income']).size().reset_index(name='total_by_age').sort_values(['age_group','income'],ascending = True)\n",
    "adult_df_income_age                                                                        "
   ]
  },
  {
   "cell_type": "code",
   "execution_count": 157,
   "id": "ef2163e7-eb24-413b-8837-0cb8194dfc44",
   "metadata": {},
   "outputs": [
    {
     "data": {
      "text/html": [
       "<div>\n",
       "<style scoped>\n",
       "    .dataframe tbody tr th:only-of-type {\n",
       "        vertical-align: middle;\n",
       "    }\n",
       "\n",
       "    .dataframe tbody tr th {\n",
       "        vertical-align: top;\n",
       "    }\n",
       "\n",
       "    .dataframe thead th {\n",
       "        text-align: right;\n",
       "    }\n",
       "</style>\n",
       "<table border=\"1\" class=\"dataframe\">\n",
       "  <thead>\n",
       "    <tr style=\"text-align: right;\">\n",
       "      <th></th>\n",
       "      <th>age_group</th>\n",
       "      <th>income</th>\n",
       "      <th>total_by_age</th>\n",
       "      <th>percentage</th>\n",
       "    </tr>\n",
       "  </thead>\n",
       "  <tbody>\n",
       "    <tr>\n",
       "      <th>0</th>\n",
       "      <td>18-25</td>\n",
       "      <td>&lt;=50k</td>\n",
       "      <td>5334</td>\n",
       "      <td>97.907489</td>\n",
       "    </tr>\n",
       "    <tr>\n",
       "      <th>1</th>\n",
       "      <td>18-25</td>\n",
       "      <td>&gt;50k</td>\n",
       "      <td>114</td>\n",
       "      <td>2.092511</td>\n",
       "    </tr>\n",
       "    <tr>\n",
       "      <th>2</th>\n",
       "      <td>26-35</td>\n",
       "      <td>&lt;=50k</td>\n",
       "      <td>6910</td>\n",
       "      <td>81.284555</td>\n",
       "    </tr>\n",
       "    <tr>\n",
       "      <th>3</th>\n",
       "      <td>26-35</td>\n",
       "      <td>&gt;50k</td>\n",
       "      <td>1591</td>\n",
       "      <td>18.715445</td>\n",
       "    </tr>\n",
       "    <tr>\n",
       "      <th>4</th>\n",
       "      <td>36-45</td>\n",
       "      <td>&lt;=50k</td>\n",
       "      <td>5230</td>\n",
       "      <td>65.366829</td>\n",
       "    </tr>\n",
       "    <tr>\n",
       "      <th>5</th>\n",
       "      <td>36-45</td>\n",
       "      <td>&gt;50k</td>\n",
       "      <td>2771</td>\n",
       "      <td>34.633171</td>\n",
       "    </tr>\n",
       "    <tr>\n",
       "      <th>6</th>\n",
       "      <td>46-60</td>\n",
       "      <td>&lt;=50k</td>\n",
       "      <td>4479</td>\n",
       "      <td>61.457190</td>\n",
       "    </tr>\n",
       "    <tr>\n",
       "      <th>7</th>\n",
       "      <td>46-60</td>\n",
       "      <td>&gt;50k</td>\n",
       "      <td>2809</td>\n",
       "      <td>38.542810</td>\n",
       "    </tr>\n",
       "    <tr>\n",
       "      <th>8</th>\n",
       "      <td>61-75</td>\n",
       "      <td>&lt;=50k</td>\n",
       "      <td>1580</td>\n",
       "      <td>75.561932</td>\n",
       "    </tr>\n",
       "    <tr>\n",
       "      <th>9</th>\n",
       "      <td>61-75</td>\n",
       "      <td>&gt;50k</td>\n",
       "      <td>511</td>\n",
       "      <td>24.438068</td>\n",
       "    </tr>\n",
       "    <tr>\n",
       "      <th>10</th>\n",
       "      <td>76+</td>\n",
       "      <td>&lt;=50k</td>\n",
       "      <td>200</td>\n",
       "      <td>83.333333</td>\n",
       "    </tr>\n",
       "    <tr>\n",
       "      <th>11</th>\n",
       "      <td>76+</td>\n",
       "      <td>&gt;50k</td>\n",
       "      <td>40</td>\n",
       "      <td>16.666667</td>\n",
       "    </tr>\n",
       "    <tr>\n",
       "      <th>12</th>\n",
       "      <td>&lt;18</td>\n",
       "      <td>&lt;=50k</td>\n",
       "      <td>945</td>\n",
       "      <td>100.000000</td>\n",
       "    </tr>\n",
       "  </tbody>\n",
       "</table>\n",
       "</div>"
      ],
      "text/plain": [
       "   age_group income  total_by_age  percentage\n",
       "0      18-25  <=50k          5334   97.907489\n",
       "1      18-25   >50k           114    2.092511\n",
       "2      26-35  <=50k          6910   81.284555\n",
       "3      26-35   >50k          1591   18.715445\n",
       "4      36-45  <=50k          5230   65.366829\n",
       "5      36-45   >50k          2771   34.633171\n",
       "6      46-60  <=50k          4479   61.457190\n",
       "7      46-60   >50k          2809   38.542810\n",
       "8      61-75  <=50k          1580   75.561932\n",
       "9      61-75   >50k           511   24.438068\n",
       "10       76+  <=50k           200   83.333333\n",
       "11       76+   >50k            40   16.666667\n",
       "12       <18  <=50k           945  100.000000"
      ]
     },
     "execution_count": 157,
     "metadata": {},
     "output_type": "execute_result"
    }
   ],
   "source": [
    "total_per_group=adult_df_income_age.groupby('age_group')['total_by_age'].transform('sum')\n",
    "adult_df_income_age['percentage']=(adult_df_income_age['total_by_age']/total_per_group)*100\n",
    "adult_df_income_age"
   ]
  },
  {
   "cell_type": "code",
   "execution_count": 271,
   "id": "d40afab4-2ce1-4b17-908a-9af43fd596cc",
   "metadata": {},
   "outputs": [
    {
     "data": {
      "application/vnd.plotly.v1+json": {
       "config": {
        "plotlyServerURL": "https://plot.ly"
       },
       "data": [
        {
         "alignmentgroup": "True",
         "hovertemplate": "income=<=50k<br>age_group=%{x}<br>percentage=%{text}<extra></extra>",
         "legendgroup": "<=50k",
         "marker": {
          "color": "rgb(103,0,31)",
          "pattern": {
           "shape": ""
          }
         },
         "name": "<=50k",
         "offsetgroup": "<=50k",
         "orientation": "v",
         "showlegend": true,
         "text": {
          "_inputArray": {
           "0": 97.90748898678414,
           "1": 81.28455475826374,
           "2": 65.36682914635671,
           "3": 61.457189901207464,
           "4": 75.56193208990913,
           "5": 83.33333333333334,
           "6": 100,
           "bdata": "9e2vTBR6WEB+KiklNlJUQJa09CB6V1BAr9/cMoW6TkDkLgOy9uNSQFZVVVVV1VRAAAAAAAAAWUA=",
           "dtype": "f8",
           "shape": "7"
          },
          "bdata": "9e2vTBR6WEB+KiklNlJUQJa09CB6V1BAr9/cMoW6TkDkLgOy9uNSQFZVVVVV1VRAAAAAAAAAWUA=",
          "dtype": "f8"
         },
         "textposition": "outside",
         "texttemplate": "%{text:.2f}%",
         "type": "bar",
         "x": [
          "18-25",
          "26-35",
          "36-45",
          "46-60",
          "61-75",
          "76+",
          "<18"
         ],
         "xaxis": "x",
         "y": {
          "_inputArray": {
           "0": 97.90748898678414,
           "1": 81.28455475826374,
           "2": 65.36682914635671,
           "3": 61.457189901207464,
           "4": 75.56193208990913,
           "5": 83.33333333333334,
           "6": 100,
           "bdata": "9e2vTBR6WEB+KiklNlJUQJa09CB6V1BAr9/cMoW6TkDkLgOy9uNSQFZVVVVV1VRAAAAAAAAAWUA=",
           "dtype": "f8",
           "shape": "7"
          },
          "bdata": "9e2vTBR6WEB+KiklNlJUQJa09CB6V1BAr9/cMoW6TkDkLgOy9uNSQFZVVVVV1VRAAAAAAAAAWUA=",
          "dtype": "f8"
         },
         "yaxis": "y"
        },
        {
         "alignmentgroup": "True",
         "hovertemplate": "income=>50k<br>age_group=%{x}<br>percentage=%{text}<extra></extra>",
         "legendgroup": ">50k",
         "marker": {
          "color": "rgb(178,24,43)",
          "pattern": {
           "shape": ""
          }
         },
         "name": ">50k",
         "offsetgroup": ">50k",
         "orientation": "v",
         "showlegend": true,
         "text": {
          "_inputArray": {
           "0": 2.092511013215859,
           "1": 18.715445241736266,
           "2": 34.6331708536433,
           "3": 38.542810098792536,
           "4": 24.438067910090865,
           "5": 16.666666666666664,
           "bdata": "aUECana9AEAJVltrJ7cyQNWWFr4LUUFAUSAjzXpFQ0BwRPM3JXA4QKqqqqqqqjBA",
           "dtype": "f8",
           "shape": "6"
          },
          "bdata": "aUECana9AEAJVltrJ7cyQNWWFr4LUUFAUSAjzXpFQ0BwRPM3JXA4QKqqqqqqqjBA",
          "dtype": "f8"
         },
         "textposition": "outside",
         "texttemplate": "%{text:.2f}%",
         "type": "bar",
         "x": [
          "18-25",
          "26-35",
          "36-45",
          "46-60",
          "61-75",
          "76+"
         ],
         "xaxis": "x",
         "y": {
          "_inputArray": {
           "0": 2.092511013215859,
           "1": 18.715445241736266,
           "2": 34.6331708536433,
           "3": 38.542810098792536,
           "4": 24.438067910090865,
           "5": 16.666666666666664,
           "bdata": "aUECana9AEAJVltrJ7cyQNWWFr4LUUFAUSAjzXpFQ0BwRPM3JXA4QKqqqqqqqjBA",
           "dtype": "f8",
           "shape": "6"
          },
          "bdata": "aUECana9AEAJVltrJ7cyQNWWFr4LUUFAUSAjzXpFQ0BwRPM3JXA4QKqqqqqqqjBA",
          "dtype": "f8"
         },
         "yaxis": "y"
        }
       ],
       "layout": {
        "autosize": true,
        "barmode": "group",
        "legend": {
         "title": {
          "text": "income"
         },
         "tracegroupgap": 0
        },
        "paper_bgcolor": "rgba(0, 0, 0, 0)",
        "plot_bgcolor": "rgba(0, 0, 0, 0)",
        "template": {
         "data": {
          "pie": [
           {
            "automargin": true,
            "type": "pie"
           }
          ],
          "scatter": [
           {
            "line": {
             "width": 3
            },
            "marker": {
             "size": 9
            },
            "type": "scatter"
           }
          ],
          "scatter3d": [
           {
            "line": {
             "width": 3
            },
            "marker": {
             "size": 9
            },
            "type": "scatter3d"
           }
          ],
          "scattergeo": [
           {
            "line": {
             "width": 3
            },
            "marker": {
             "size": 9
            },
            "type": "scattergeo"
           }
          ],
          "scattergl": [
           {
            "line": {
             "width": 3
            },
            "marker": {
             "size": 9
            },
            "type": "scattergl"
           }
          ],
          "scatterpolar": [
           {
            "line": {
             "width": 3
            },
            "marker": {
             "size": 9
            },
            "type": "scatterpolar"
           }
          ],
          "scatterpolargl": [
           {
            "line": {
             "width": 3
            },
            "marker": {
             "size": 9
            },
            "type": "scatterpolargl"
           }
          ],
          "scatterternary": [
           {
            "line": {
             "width": 3
            },
            "marker": {
             "size": 9
            },
            "type": "scatterternary"
           }
          ],
          "table": [
           {
            "cells": {
             "height": 30
            },
            "header": {
             "height": 36
            },
            "type": "table"
           }
          ]
         },
         "layout": {
          "font": {
           "size": 18
          },
          "xaxis": {
           "title": {
            "standoff": 15
           }
          },
          "yaxis": {
           "title": {
            "standoff": 15
           }
          }
         }
        },
        "title": {
         "text": "Income Distribution by age Group(%)"
        },
        "xaxis": {
         "anchor": "y",
         "autorange": true,
         "domain": [
          0,
          1
         ],
         "range": [
          -0.5,
          6.5
         ],
         "title": {
          "text": "age_group"
         },
         "type": "category"
        },
        "yaxis": {
         "anchor": "x",
         "autorange": true,
         "domain": [
          0,
          1
         ],
         "range": [
          0,
          105.26315789473685
         ],
         "title": {
          "text": "percentage"
         },
         "type": "linear"
        }
       }
      },
      "image/png": "[encoded data removed]"
     },
     "metadata": {},
     "output_type": "display_data"
    }
   ],
   "source": [
    "fig= px.bar(\n",
    "    adult_df_income_age,\n",
    "    x = 'age_group',\n",
    "    y = 'percentage',\n",
    "    color= 'income',\n",
    "    title='Income Distribution by age Group(%)',\n",
    "    barmode = 'group',\n",
    "    height=500,\n",
    "    text= 'percentage',\n",
    "    color_discrete_sequence=px.colors.sequential.RdBu,\n",
    ")\n",
    "fig.update_traces(texttemplate='%{text:.2f}%')\n",
    "fig.update_traces(textposition='outside')\n",
    "fig.update_layout(template=\"presentation\", paper_bgcolor=\"rgba(0,0,0,0)\",plot_bgcolor=(\"rgba(0,0,0,0)\"))\n",
    "fig.show()\n",
    "fig.write_image(os.path.join(results_dir,'income_distribution_AGEgroup1_pie_chart.jpg'))\n",
    "fig.write_image(os.path.join(results_dir,'income_distribution_AGEgroup1_chart.png'))\n",
    "fig.write_html(os.path.join(results_dir,'income_distribution_AGEgroup1_chart.html'))"
   ]
  },
  {
   "cell_type": "code",
   "execution_count": 269,
   "id": "8ce17593-fce0-403a-8d60-cf12d8b82ce8",
   "metadata": {},
   "outputs": [
    {
     "data": {
      "application/vnd.plotly.v1+json": {
       "config": {
        "plotlyServerURL": "https://plot.ly"
       },
       "data": [
        {
         "alignmentgroup": "True",
         "hovertemplate": "income=<=50k<br>age_group=%{x}<br>percentage=%{text}<extra></extra>",
         "legendgroup": "<=50k",
         "marker": {
          "color": "rgb(103,0,31)",
          "pattern": {
           "shape": ""
          }
         },
         "name": "<=50k",
         "offsetgroup": "<=50k",
         "orientation": "v",
         "showlegend": true,
         "text": {
          "_inputArray": {
           "0": 97.90748898678414,
           "1": 81.28455475826374,
           "2": 65.36682914635671,
           "3": 61.457189901207464,
           "4": 75.56193208990913,
           "5": 83.33333333333334,
           "6": 100,
           "bdata": "9e2vTBR6WEB+KiklNlJUQJa09CB6V1BAr9/cMoW6TkDkLgOy9uNSQFZVVVVV1VRAAAAAAAAAWUA=",
           "dtype": "f8",
           "shape": "7"
          },
          "bdata": "9e2vTBR6WEB+KiklNlJUQJa09CB6V1BAr9/cMoW6TkDkLgOy9uNSQFZVVVVV1VRAAAAAAAAAWUA=",
          "dtype": "f8"
         },
         "textposition": "outside",
         "texttemplate": "%{text:.2f}%",
         "type": "bar",
         "x": [
          "18-25",
          "26-35",
          "36-45",
          "46-60",
          "61-75",
          "76+",
          "<18"
         ],
         "xaxis": "x",
         "y": {
          "_inputArray": {
           "0": 97.90748898678414,
           "1": 81.28455475826374,
           "2": 65.36682914635671,
           "3": 61.457189901207464,
           "4": 75.56193208990913,
           "5": 83.33333333333334,
           "6": 100,
           "bdata": "9e2vTBR6WEB+KiklNlJUQJa09CB6V1BAr9/cMoW6TkDkLgOy9uNSQFZVVVVV1VRAAAAAAAAAWUA=",
           "dtype": "f8",
           "shape": "7"
          },
          "bdata": "9e2vTBR6WEB+KiklNlJUQJa09CB6V1BAr9/cMoW6TkDkLgOy9uNSQFZVVVVV1VRAAAAAAAAAWUA=",
          "dtype": "f8"
         },
         "yaxis": "y"
        },
        {
         "alignmentgroup": "True",
         "hovertemplate": "income=>50k<br>age_group=%{x}<br>percentage=%{text}<extra></extra>",
         "legendgroup": ">50k",
         "marker": {
          "color": "rgb(178,24,43)",
          "pattern": {
           "shape": ""
          }
         },
         "name": ">50k",
         "offsetgroup": ">50k",
         "orientation": "v",
         "showlegend": true,
         "text": {
          "_inputArray": {
           "0": 2.092511013215859,
           "1": 18.715445241736266,
           "2": 34.6331708536433,
           "3": 38.542810098792536,
           "4": 24.438067910090865,
           "5": 16.666666666666664,
           "bdata": "aUECana9AEAJVltrJ7cyQNWWFr4LUUFAUSAjzXpFQ0BwRPM3JXA4QKqqqqqqqjBA",
           "dtype": "f8",
           "shape": "6"
          },
          "bdata": "aUECana9AEAJVltrJ7cyQNWWFr4LUUFAUSAjzXpFQ0BwRPM3JXA4QKqqqqqqqjBA",
          "dtype": "f8"
         },
         "textposition": "outside",
         "texttemplate": "%{text:.2f}%",
         "type": "bar",
         "x": [
          "18-25",
          "26-35",
          "36-45",
          "46-60",
          "61-75",
          "76+"
         ],
         "xaxis": "x",
         "y": {
          "_inputArray": {
           "0": 2.092511013215859,
           "1": 18.715445241736266,
           "2": 34.6331708536433,
           "3": 38.542810098792536,
           "4": 24.438067910090865,
           "5": 16.666666666666664,
           "bdata": "aUECana9AEAJVltrJ7cyQNWWFr4LUUFAUSAjzXpFQ0BwRPM3JXA4QKqqqqqqqjBA",
           "dtype": "f8",
           "shape": "6"
          },
          "bdata": "aUECana9AEAJVltrJ7cyQNWWFr4LUUFAUSAjzXpFQ0BwRPM3JXA4QKqqqqqqqjBA",
          "dtype": "f8"
         },
         "yaxis": "y"
        }
       ],
       "layout": {
        "autosize": true,
        "barmode": "group",
        "legend": {
         "title": {
          "text": "income"
         },
         "tracegroupgap": 0
        },
        "paper_bgcolor": "rgba(0, 0, 0, 0)",
        "plot_bgcolor": "rgba(0, 0, 0, 0)",
        "template": {
         "data": {
          "scatter": [
           {
            "type": "scatter"
           }
          ]
         }
        },
        "title": {
         "text": "Income Distribution by age Group(%)"
        },
        "xaxis": {
         "anchor": "y",
         "autorange": true,
         "domain": [
          0,
          1
         ],
         "range": [
          -0.5,
          6.5
         ],
         "title": {
          "text": "age_group"
         },
         "type": "category"
        },
        "yaxis": {
         "anchor": "x",
         "autorange": true,
         "domain": [
          0,
          1
         ],
         "range": [
          0,
          105.26315789473685
         ],
         "title": {
          "text": "percentage"
         },
         "type": "linear"
        }
       }
      },
      "image/png": "[encoded data removed]"
     },
     "metadata": {},
     "output_type": "display_data"
    }
   ],
   "source": [
    "themes = [\"plotly\", \"plotly_white\", \"plotly_dark\", \"ggplot2\", \"seaborn\", \"simple_white\", \"presentation\", \"xgridoff\", \"ygridoff\", \"gridon\", \"none\"]\n",
    "\n",
    "for theme in themes:\n",
    "    fig.update_layout(template=theme)\n",
    "fig.show()\n",
    "fig.write_image(os.path.join(results_dir,'income_distribution_AGEgroup_pie_chart.jpg'))\n",
    "fig.write_image(os.path.join(results_dir,'income_distribution_AGEgroup_pie_chart.png'))\n",
    "fig.write_html(os.path.join(results_dir,'income_distribution_AGEgroup_pie_chart.html'))\n"
   ]
  },
  {
   "cell_type": "code",
   "execution_count": 160,
   "id": "7d6d1042-96e2-41b6-9552-667445fc2e24",
   "metadata": {},
   "outputs": [],
   "source": [
    "# pip install -U kaleido"
   ]
  },
  {
   "cell_type": "code",
   "execution_count": 161,
   "id": "ee1446d1-1df6-46aa-bfd2-1108871cbc65",
   "metadata": {},
   "outputs": [],
   "source": [
    "# pip install -U plotly"
   ]
  },
  {
   "cell_type": "code",
   "execution_count": 162,
   "id": "61f9763c-cd55-48ac-8590-744c7605bd50",
   "metadata": {},
   "outputs": [
    {
     "data": {
      "text/html": [
       "<div>\n",
       "<style scoped>\n",
       "    .dataframe tbody tr th:only-of-type {\n",
       "        vertical-align: middle;\n",
       "    }\n",
       "\n",
       "    .dataframe tbody tr th {\n",
       "        vertical-align: top;\n",
       "    }\n",
       "\n",
       "    .dataframe thead th {\n",
       "        text-align: right;\n",
       "    }\n",
       "</style>\n",
       "<table border=\"1\" class=\"dataframe\">\n",
       "  <thead>\n",
       "    <tr style=\"text-align: right;\">\n",
       "      <th></th>\n",
       "      <th>native_region</th>\n",
       "      <th>income</th>\n",
       "      <th>total_income_distr</th>\n",
       "    </tr>\n",
       "  </thead>\n",
       "  <tbody>\n",
       "    <tr>\n",
       "      <th>0</th>\n",
       "      <td>asia</td>\n",
       "      <td>&lt;=50k</td>\n",
       "      <td>465</td>\n",
       "    </tr>\n",
       "    <tr>\n",
       "      <th>1</th>\n",
       "      <td>asia</td>\n",
       "      <td>&gt;50k</td>\n",
       "      <td>206</td>\n",
       "    </tr>\n",
       "    <tr>\n",
       "      <th>2</th>\n",
       "      <td>central america</td>\n",
       "      <td>&lt;=50k</td>\n",
       "      <td>466</td>\n",
       "    </tr>\n",
       "    <tr>\n",
       "      <th>3</th>\n",
       "      <td>central america</td>\n",
       "      <td>&gt;50k</td>\n",
       "      <td>58</td>\n",
       "    </tr>\n",
       "    <tr>\n",
       "      <th>4</th>\n",
       "      <td>europe</td>\n",
       "      <td>&lt;=50k</td>\n",
       "      <td>369</td>\n",
       "    </tr>\n",
       "    <tr>\n",
       "      <th>5</th>\n",
       "      <td>europe</td>\n",
       "      <td>&gt;50k</td>\n",
       "      <td>152</td>\n",
       "    </tr>\n",
       "    <tr>\n",
       "      <th>6</th>\n",
       "      <td>north america</td>\n",
       "      <td>&lt;=50k</td>\n",
       "      <td>22769</td>\n",
       "    </tr>\n",
       "    <tr>\n",
       "      <th>7</th>\n",
       "      <td>north america</td>\n",
       "      <td>&gt;50k</td>\n",
       "      <td>7250</td>\n",
       "    </tr>\n",
       "    <tr>\n",
       "      <th>8</th>\n",
       "      <td>other</td>\n",
       "      <td>&lt;=50k</td>\n",
       "      <td>435</td>\n",
       "    </tr>\n",
       "    <tr>\n",
       "      <th>9</th>\n",
       "      <td>other</td>\n",
       "      <td>&gt;50k</td>\n",
       "      <td>146</td>\n",
       "    </tr>\n",
       "    <tr>\n",
       "      <th>10</th>\n",
       "      <td>south ameriaca</td>\n",
       "      <td>&lt;=50k</td>\n",
       "      <td>24</td>\n",
       "    </tr>\n",
       "    <tr>\n",
       "      <th>11</th>\n",
       "      <td>south ameriaca</td>\n",
       "      <td>&gt;50k</td>\n",
       "      <td>4</td>\n",
       "    </tr>\n",
       "    <tr>\n",
       "      <th>12</th>\n",
       "      <td>south america</td>\n",
       "      <td>&lt;=50k</td>\n",
       "      <td>150</td>\n",
       "    </tr>\n",
       "    <tr>\n",
       "      <th>13</th>\n",
       "      <td>south america</td>\n",
       "      <td>&gt;50k</td>\n",
       "      <td>20</td>\n",
       "    </tr>\n",
       "  </tbody>\n",
       "</table>\n",
       "</div>"
      ],
      "text/plain": [
       "      native_region income  total_income_distr\n",
       "0              asia  <=50k                 465\n",
       "1              asia   >50k                 206\n",
       "2   central america  <=50k                 466\n",
       "3   central america   >50k                  58\n",
       "4            europe  <=50k                 369\n",
       "5            europe   >50k                 152\n",
       "6     north america  <=50k               22769\n",
       "7     north america   >50k                7250\n",
       "8             other  <=50k                 435\n",
       "9             other   >50k                 146\n",
       "10   south ameriaca  <=50k                  24\n",
       "11   south ameriaca   >50k                   4\n",
       "12    south america  <=50k                 150\n",
       "13    south america   >50k                  20"
      ]
     },
     "execution_count": 162,
     "metadata": {},
     "output_type": "execute_result"
    }
   ],
   "source": [
    "adult_df_income_native_region = adult_df.groupby(['native_region', 'income']).size().reset_index(name='total_income_distr')\n",
    "adult_df_income_native_region                                                                  "
   ]
  },
  {
   "cell_type": "code",
   "execution_count": 163,
   "id": "1de36f69-e6cf-42c3-82f0-1640b4d14d1b",
   "metadata": {},
   "outputs": [
    {
     "data": {
      "text/html": [
       "<div>\n",
       "<style scoped>\n",
       "    .dataframe tbody tr th:only-of-type {\n",
       "        vertical-align: middle;\n",
       "    }\n",
       "\n",
       "    .dataframe tbody tr th {\n",
       "        vertical-align: top;\n",
       "    }\n",
       "\n",
       "    .dataframe thead th {\n",
       "        text-align: right;\n",
       "    }\n",
       "</style>\n",
       "<table border=\"1\" class=\"dataframe\">\n",
       "  <thead>\n",
       "    <tr style=\"text-align: right;\">\n",
       "      <th></th>\n",
       "      <th>native_region</th>\n",
       "      <th>income</th>\n",
       "      <th>total_income_distr</th>\n",
       "      <th>percentage</th>\n",
       "    </tr>\n",
       "  </thead>\n",
       "  <tbody>\n",
       "    <tr>\n",
       "      <th>0</th>\n",
       "      <td>asia</td>\n",
       "      <td>&lt;=50k</td>\n",
       "      <td>465</td>\n",
       "      <td>69.299553</td>\n",
       "    </tr>\n",
       "    <tr>\n",
       "      <th>1</th>\n",
       "      <td>asia</td>\n",
       "      <td>&gt;50k</td>\n",
       "      <td>206</td>\n",
       "      <td>30.700447</td>\n",
       "    </tr>\n",
       "    <tr>\n",
       "      <th>2</th>\n",
       "      <td>central america</td>\n",
       "      <td>&lt;=50k</td>\n",
       "      <td>466</td>\n",
       "      <td>88.931298</td>\n",
       "    </tr>\n",
       "    <tr>\n",
       "      <th>3</th>\n",
       "      <td>central america</td>\n",
       "      <td>&gt;50k</td>\n",
       "      <td>58</td>\n",
       "      <td>11.068702</td>\n",
       "    </tr>\n",
       "    <tr>\n",
       "      <th>4</th>\n",
       "      <td>europe</td>\n",
       "      <td>&lt;=50k</td>\n",
       "      <td>369</td>\n",
       "      <td>70.825336</td>\n",
       "    </tr>\n",
       "    <tr>\n",
       "      <th>5</th>\n",
       "      <td>europe</td>\n",
       "      <td>&gt;50k</td>\n",
       "      <td>152</td>\n",
       "      <td>29.174664</td>\n",
       "    </tr>\n",
       "    <tr>\n",
       "      <th>6</th>\n",
       "      <td>north america</td>\n",
       "      <td>&lt;=50k</td>\n",
       "      <td>22769</td>\n",
       "      <td>75.848629</td>\n",
       "    </tr>\n",
       "    <tr>\n",
       "      <th>7</th>\n",
       "      <td>north america</td>\n",
       "      <td>&gt;50k</td>\n",
       "      <td>7250</td>\n",
       "      <td>24.151371</td>\n",
       "    </tr>\n",
       "    <tr>\n",
       "      <th>8</th>\n",
       "      <td>other</td>\n",
       "      <td>&lt;=50k</td>\n",
       "      <td>435</td>\n",
       "      <td>74.870912</td>\n",
       "    </tr>\n",
       "    <tr>\n",
       "      <th>9</th>\n",
       "      <td>other</td>\n",
       "      <td>&gt;50k</td>\n",
       "      <td>146</td>\n",
       "      <td>25.129088</td>\n",
       "    </tr>\n",
       "    <tr>\n",
       "      <th>10</th>\n",
       "      <td>south ameriaca</td>\n",
       "      <td>&lt;=50k</td>\n",
       "      <td>24</td>\n",
       "      <td>85.714286</td>\n",
       "    </tr>\n",
       "    <tr>\n",
       "      <th>11</th>\n",
       "      <td>south ameriaca</td>\n",
       "      <td>&gt;50k</td>\n",
       "      <td>4</td>\n",
       "      <td>14.285714</td>\n",
       "    </tr>\n",
       "    <tr>\n",
       "      <th>12</th>\n",
       "      <td>south america</td>\n",
       "      <td>&lt;=50k</td>\n",
       "      <td>150</td>\n",
       "      <td>88.235294</td>\n",
       "    </tr>\n",
       "    <tr>\n",
       "      <th>13</th>\n",
       "      <td>south america</td>\n",
       "      <td>&gt;50k</td>\n",
       "      <td>20</td>\n",
       "      <td>11.764706</td>\n",
       "    </tr>\n",
       "  </tbody>\n",
       "</table>\n",
       "</div>"
      ],
      "text/plain": [
       "      native_region income  total_income_distr  percentage\n",
       "0              asia  <=50k                 465   69.299553\n",
       "1              asia   >50k                 206   30.700447\n",
       "2   central america  <=50k                 466   88.931298\n",
       "3   central america   >50k                  58   11.068702\n",
       "4            europe  <=50k                 369   70.825336\n",
       "5            europe   >50k                 152   29.174664\n",
       "6     north america  <=50k               22769   75.848629\n",
       "7     north america   >50k                7250   24.151371\n",
       "8             other  <=50k                 435   74.870912\n",
       "9             other   >50k                 146   25.129088\n",
       "10   south ameriaca  <=50k                  24   85.714286\n",
       "11   south ameriaca   >50k                   4   14.285714\n",
       "12    south america  <=50k                 150   88.235294\n",
       "13    south america   >50k                  20   11.764706"
      ]
     },
     "execution_count": 163,
     "metadata": {},
     "output_type": "execute_result"
    }
   ],
   "source": [
    "total_per_all=adult_df_income_native_region.groupby('native_region')['total_income_distr'].transform('sum')\n",
    "adult_df_income_native_region['percentage']=(adult_df_income_native_region['total_income_distr']/total_per_all)*100\n",
    "adult_df_income_native_region\n",
    "# total_per_group=adult_df_income_age.groupby('age_group')['total_by_age'].transform('sum')\n",
    "# adult_df_income_age['percentage']=(adult_df_income_age['total_by_age']/total_per_group)*100\n",
    "# adult_df_income_age"
   ]
  },
  {
   "cell_type": "code",
   "execution_count": 263,
   "id": "08133d93-079a-4cb6-913f-7cb58ec84a8c",
   "metadata": {},
   "outputs": [
    {
     "data": {
      "application/vnd.plotly.v1+json": {
       "config": {
        "plotlyServerURL": "https://plot.ly"
       },
       "data": [
        {
         "alignmentgroup": "True",
         "hovertemplate": "income=<=50k<br>native_region=%{x}<br>percentage=%{text}<extra></extra>",
         "legendgroup": "<=50k",
         "marker": {
          "color": "rgb(103,0,31)",
          "pattern": {
           "shape": ""
          }
         },
         "name": "<=50k",
         "offsetgroup": "<=50k",
         "orientation": "v",
         "showlegend": true,
         "text": {
          "_inputArray": {
           "0": 69.29955290611028,
           "1": 88.93129770992367,
           "2": 70.8253358925144,
           "3": 75.84862920150572,
           "4": 74.87091222030982,
           "5": 85.71428571428571,
           "6": 88.23529411764706,
           "bdata": "lsrz3ytTUUCPvbVhmjtWQB6kok3StFFAc7na8E/2UkC3+psGvbdSQNu2bdu2bVVADw8PDw8PVkA=",
           "dtype": "f8",
           "shape": "7"
          },
          "bdata": "lsrz3ytTUUCPvbVhmjtWQB6kok3StFFAc7na8E/2UkC3+psGvbdSQNu2bdu2bVVADw8PDw8PVkA=",
          "dtype": "f8"
         },
         "textposition": "outside",
         "texttemplate": "%{text:.2f}%",
         "type": "bar",
         "x": [
          "asia",
          "central america",
          "europe",
          "north america",
          "other",
          "south ameriaca",
          "south america"
         ],
         "xaxis": "x",
         "y": {
          "_inputArray": {
           "0": 69.29955290611028,
           "1": 88.93129770992367,
           "2": 70.8253358925144,
           "3": 75.84862920150572,
           "4": 74.87091222030982,
           "5": 85.71428571428571,
           "6": 88.23529411764706,
           "bdata": "lsrz3ytTUUCPvbVhmjtWQB6kok3StFFAc7na8E/2UkC3+psGvbdSQNu2bdu2bVVADw8PDw8PVkA=",
           "dtype": "f8",
           "shape": "7"
          },
          "bdata": "lsrz3ytTUUCPvbVhmjtWQB6kok3StFFAc7na8E/2UkC3+psGvbdSQNu2bdu2bVVADw8PDw8PVkA=",
          "dtype": "f8"
         },
         "yaxis": "y"
        },
        {
         "alignmentgroup": "True",
         "hovertemplate": "income=>50k<br>native_region=%{x}<br>percentage=%{text}<extra></extra>",
         "legendgroup": ">50k",
         "marker": {
          "color": "rgb(178,24,43)",
          "pattern": {
           "shape": ""
          }
         },
         "name": ">50k",
         "offsetgroup": ">50k",
         "orientation": "v",
         "showlegend": true,
         "text": {
          "_inputArray": {
           "0": 30.700447093889714,
           "1": 11.068702290076336,
           "2": 29.174664107485604,
           "3": 24.151370798494288,
           "4": 25.12908777969019,
           "5": 14.285714285714285,
           "6": 11.76470588235294,
           "bdata": "ptUwgFCzPkCLE1LyLCMmQIpvdcm2LD1ANRqVPMAmOEAnFZDlCyE5QCRJkiRJkixAh4eHh4eHJ0A=",
           "dtype": "f8",
           "shape": "7"
          },
          "bdata": "ptUwgFCzPkCLE1LyLCMmQIpvdcm2LD1ANRqVPMAmOEAnFZDlCyE5QCRJkiRJkixAh4eHh4eHJ0A=",
          "dtype": "f8"
         },
         "textposition": "outside",
         "texttemplate": "%{text:.2f}%",
         "type": "bar",
         "x": [
          "asia",
          "central america",
          "europe",
          "north america",
          "other",
          "south ameriaca",
          "south america"
         ],
         "xaxis": "x",
         "y": {
          "_inputArray": {
           "0": 30.700447093889714,
           "1": 11.068702290076336,
           "2": 29.174664107485604,
           "3": 24.151370798494288,
           "4": 25.12908777969019,
           "5": 14.285714285714285,
           "6": 11.76470588235294,
           "bdata": "ptUwgFCzPkCLE1LyLCMmQIpvdcm2LD1ANRqVPMAmOEAnFZDlCyE5QCRJkiRJkixAh4eHh4eHJ0A=",
           "dtype": "f8",
           "shape": "7"
          },
          "bdata": "ptUwgFCzPkCLE1LyLCMmQIpvdcm2LD1ANRqVPMAmOEAnFZDlCyE5QCRJkiRJkixAh4eHh4eHJ0A=",
          "dtype": "f8"
         },
         "yaxis": "y"
        }
       ],
       "layout": {
        "autosize": true,
        "barmode": "group",
        "legend": {
         "title": {
          "text": "income"
         },
         "tracegroupgap": 0
        },
        "template": {
         "data": {
          "bar": [
           {
            "error_x": {
             "color": "#2a3f5f"
            },
            "error_y": {
             "color": "#2a3f5f"
            },
            "marker": {
             "line": {
              "color": "#E5ECF6",
              "width": 0.5
             },
             "pattern": {
              "fillmode": "overlay",
              "size": 10,
              "solidity": 0.2
             }
            },
            "type": "bar"
           }
          ],
          "barpolar": [
           {
            "marker": {
             "line": {
              "color": "#E5ECF6",
              "width": 0.5
             },
             "pattern": {
              "fillmode": "overlay",
              "size": 10,
              "solidity": 0.2
             }
            },
            "type": "barpolar"
           }
          ],
          "carpet": [
           {
            "aaxis": {
             "endlinecolor": "#2a3f5f",
             "gridcolor": "white",
             "linecolor": "white",
             "minorgridcolor": "white",
             "startlinecolor": "#2a3f5f"
            },
            "baxis": {
             "endlinecolor": "#2a3f5f",
             "gridcolor": "white",
             "linecolor": "white",
             "minorgridcolor": "white",
             "startlinecolor": "#2a3f5f"
            },
            "type": "carpet"
           }
          ],
          "choropleth": [
           {
            "colorbar": {
             "outlinewidth": 0,
             "ticks": ""
            },
            "type": "choropleth"
           }
          ],
          "contour": [
           {
            "colorbar": {
             "outlinewidth": 0,
             "ticks": ""
            },
            "colorscale": [
             [
              0,
              "#0d0887"
             ],
             [
              0.1111111111111111,
              "#46039f"
             ],
             [
              0.2222222222222222,
              "#7201a8"
             ],
             [
              0.3333333333333333,
              "#9c179e"
             ],
             [
              0.4444444444444444,
              "#bd3786"
             ],
             [
              0.5555555555555556,
              "#d8576b"
             ],
             [
              0.6666666666666666,
              "#ed7953"
             ],
             [
              0.7777777777777778,
              "#fb9f3a"
             ],
             [
              0.8888888888888888,
              "#fdca26"
             ],
             [
              1,
              "#f0f921"
             ]
            ],
            "type": "contour"
           }
          ],
          "contourcarpet": [
           {
            "colorbar": {
             "outlinewidth": 0,
             "ticks": ""
            },
            "type": "contourcarpet"
           }
          ],
          "heatmap": [
           {
            "colorbar": {
             "outlinewidth": 0,
             "ticks": ""
            },
            "colorscale": [
             [
              0,
              "#0d0887"
             ],
             [
              0.1111111111111111,
              "#46039f"
             ],
             [
              0.2222222222222222,
              "#7201a8"
             ],
             [
              0.3333333333333333,
              "#9c179e"
             ],
             [
              0.4444444444444444,
              "#bd3786"
             ],
             [
              0.5555555555555556,
              "#d8576b"
             ],
             [
              0.6666666666666666,
              "#ed7953"
             ],
             [
              0.7777777777777778,
              "#fb9f3a"
             ],
             [
              0.8888888888888888,
              "#fdca26"
             ],
             [
              1,
              "#f0f921"
             ]
            ],
            "type": "heatmap"
           }
          ],
          "histogram": [
           {
            "marker": {
             "pattern": {
              "fillmode": "overlay",
              "size": 10,
              "solidity": 0.2
             }
            },
            "type": "histogram"
           }
          ],
          "histogram2d": [
           {
            "colorbar": {
             "outlinewidth": 0,
             "ticks": ""
            },
            "colorscale": [
             [
              0,
              "#0d0887"
             ],
             [
              0.1111111111111111,
              "#46039f"
             ],
             [
              0.2222222222222222,
              "#7201a8"
             ],
             [
              0.3333333333333333,
              "#9c179e"
             ],
             [
              0.4444444444444444,
              "#bd3786"
             ],
             [
              0.5555555555555556,
              "#d8576b"
             ],
             [
              0.6666666666666666,
              "#ed7953"
             ],
             [
              0.7777777777777778,
              "#fb9f3a"
             ],
             [
              0.8888888888888888,
              "#fdca26"
             ],
             [
              1,
              "#f0f921"
             ]
            ],
            "type": "histogram2d"
           }
          ],
          "histogram2dcontour": [
           {
            "colorbar": {
             "outlinewidth": 0,
             "ticks": ""
            },
            "colorscale": [
             [
              0,
              "#0d0887"
             ],
             [
              0.1111111111111111,
              "#46039f"
             ],
             [
              0.2222222222222222,
              "#7201a8"
             ],
             [
              0.3333333333333333,
              "#9c179e"
             ],
             [
              0.4444444444444444,
              "#bd3786"
             ],
             [
              0.5555555555555556,
              "#d8576b"
             ],
             [
              0.6666666666666666,
              "#ed7953"
             ],
             [
              0.7777777777777778,
              "#fb9f3a"
             ],
             [
              0.8888888888888888,
              "#fdca26"
             ],
             [
              1,
              "#f0f921"
             ]
            ],
            "type": "histogram2dcontour"
           }
          ],
          "mesh3d": [
           {
            "colorbar": {
             "outlinewidth": 0,
             "ticks": ""
            },
            "type": "mesh3d"
           }
          ],
          "parcoords": [
           {
            "line": {
             "colorbar": {
              "outlinewidth": 0,
              "ticks": ""
             }
            },
            "type": "parcoords"
           }
          ],
          "pie": [
           {
            "automargin": true,
            "type": "pie"
           }
          ],
          "scatter": [
           {
            "fillpattern": {
             "fillmode": "overlay",
             "size": 10,
             "solidity": 0.2
            },
            "type": "scatter"
           }
          ],
          "scatter3d": [
           {
            "line": {
             "colorbar": {
              "outlinewidth": 0,
              "ticks": ""
             }
            },
            "marker": {
             "colorbar": {
              "outlinewidth": 0,
              "ticks": ""
             }
            },
            "type": "scatter3d"
           }
          ],
          "scattercarpet": [
           {
            "marker": {
             "colorbar": {
              "outlinewidth": 0,
              "ticks": ""
             }
            },
            "type": "scattercarpet"
           }
          ],
          "scattergeo": [
           {
            "marker": {
             "colorbar": {
              "outlinewidth": 0,
              "ticks": ""
             }
            },
            "type": "scattergeo"
           }
          ],
          "scattergl": [
           {
            "marker": {
             "colorbar": {
              "outlinewidth": 0,
              "ticks": ""
             }
            },
            "type": "scattergl"
           }
          ],
          "scattermap": [
           {
            "marker": {
             "colorbar": {
              "outlinewidth": 0,
              "ticks": ""
             }
            },
            "type": "scattermap"
           }
          ],
          "scattermapbox": [
           {
            "marker": {
             "colorbar": {
              "outlinewidth": 0,
              "ticks": ""
             }
            },
            "type": "scattermapbox"
           }
          ],
          "scatterpolar": [
           {
            "marker": {
             "colorbar": {
              "outlinewidth": 0,
              "ticks": ""
             }
            },
            "type": "scatterpolar"
           }
          ],
          "scatterpolargl": [
           {
            "marker": {
             "colorbar": {
              "outlinewidth": 0,
              "ticks": ""
             }
            },
            "type": "scatterpolargl"
           }
          ],
          "scatterternary": [
           {
            "marker": {
             "colorbar": {
              "outlinewidth": 0,
              "ticks": ""
             }
            },
            "type": "scatterternary"
           }
          ],
          "surface": [
           {
            "colorbar": {
             "outlinewidth": 0,
             "ticks": ""
            },
            "colorscale": [
             [
              0,
              "#0d0887"
             ],
             [
              0.1111111111111111,
              "#46039f"
             ],
             [
              0.2222222222222222,
              "#7201a8"
             ],
             [
              0.3333333333333333,
              "#9c179e"
             ],
             [
              0.4444444444444444,
              "#bd3786"
             ],
             [
              0.5555555555555556,
              "#d8576b"
             ],
             [
              0.6666666666666666,
              "#ed7953"
             ],
             [
              0.7777777777777778,
              "#fb9f3a"
             ],
             [
              0.8888888888888888,
              "#fdca26"
             ],
             [
              1,
              "#f0f921"
             ]
            ],
            "type": "surface"
           }
          ],
          "table": [
           {
            "cells": {
             "fill": {
              "color": "#EBF0F8"
             },
             "line": {
              "color": "white"
             }
            },
            "header": {
             "fill": {
              "color": "#C8D4E3"
             },
             "line": {
              "color": "white"
             }
            },
            "type": "table"
           }
          ]
         },
         "layout": {
          "annotationdefaults": {
           "arrowcolor": "#2a3f5f",
           "arrowhead": 0,
           "arrowwidth": 1
          },
          "autotypenumbers": "strict",
          "coloraxis": {
           "colorbar": {
            "outlinewidth": 0,
            "ticks": ""
           }
          },
          "colorscale": {
           "diverging": [
            [
             0,
             "#8e0152"
            ],
            [
             0.1,
             "#c51b7d"
            ],
            [
             0.2,
             "#de77ae"
            ],
            [
             0.3,
             "#f1b6da"
            ],
            [
             0.4,
             "#fde0ef"
            ],
            [
             0.5,
             "#f7f7f7"
            ],
            [
             0.6,
             "#e6f5d0"
            ],
            [
             0.7,
             "#b8e186"
            ],
            [
             0.8,
             "#7fbc41"
            ],
            [
             0.9,
             "#4d9221"
            ],
            [
             1,
             "#276419"
            ]
           ],
           "sequential": [
            [
             0,
             "#0d0887"
            ],
            [
             0.1111111111111111,
             "#46039f"
            ],
            [
             0.2222222222222222,
             "#7201a8"
            ],
            [
             0.3333333333333333,
             "#9c179e"
            ],
            [
             0.4444444444444444,
             "#bd3786"
            ],
            [
             0.5555555555555556,
             "#d8576b"
            ],
            [
             0.6666666666666666,
             "#ed7953"
            ],
            [
             0.7777777777777778,
             "#fb9f3a"
            ],
            [
             0.8888888888888888,
             "#fdca26"
            ],
            [
             1,
             "#f0f921"
            ]
           ],
           "sequentialminus": [
            [
             0,
             "#0d0887"
            ],
            [
             0.1111111111111111,
             "#46039f"
            ],
            [
             0.2222222222222222,
             "#7201a8"
            ],
            [
             0.3333333333333333,
             "#9c179e"
            ],
            [
             0.4444444444444444,
             "#bd3786"
            ],
            [
             0.5555555555555556,
             "#d8576b"
            ],
            [
             0.6666666666666666,
             "#ed7953"
            ],
            [
             0.7777777777777778,
             "#fb9f3a"
            ],
            [
             0.8888888888888888,
             "#fdca26"
            ],
            [
             1,
             "#f0f921"
            ]
           ]
          },
          "colorway": [
           "#636efa",
           "#EF553B",
           "#00cc96",
           "#ab63fa",
           "#FFA15A",
           "#19d3f3",
           "#FF6692",
           "#B6E880",
           "#FF97FF",
           "#FECB52"
          ],
          "font": {
           "color": "#2a3f5f"
          },
          "geo": {
           "bgcolor": "white",
           "lakecolor": "white",
           "landcolor": "#E5ECF6",
           "showlakes": true,
           "showland": true,
           "subunitcolor": "white"
          },
          "hoverlabel": {
           "align": "left"
          },
          "hovermode": "closest",
          "mapbox": {
           "style": "light"
          },
          "paper_bgcolor": "white",
          "plot_bgcolor": "#E5ECF6",
          "polar": {
           "angularaxis": {
            "gridcolor": "white",
            "linecolor": "white",
            "ticks": ""
           },
           "bgcolor": "#E5ECF6",
           "radialaxis": {
            "gridcolor": "white",
            "linecolor": "white",
            "ticks": ""
           }
          },
          "scene": {
           "xaxis": {
            "backgroundcolor": "#E5ECF6",
            "gridcolor": "white",
            "gridwidth": 2,
            "linecolor": "white",
            "showbackground": true,
            "ticks": "",
            "zerolinecolor": "white"
           },
           "yaxis": {
            "backgroundcolor": "#E5ECF6",
            "gridcolor": "white",
            "gridwidth": 2,
            "linecolor": "white",
            "showbackground": true,
            "ticks": "",
            "zerolinecolor": "white"
           },
           "zaxis": {
            "backgroundcolor": "#E5ECF6",
            "gridcolor": "white",
            "gridwidth": 2,
            "linecolor": "white",
            "showbackground": true,
            "ticks": "",
            "zerolinecolor": "white"
           }
          },
          "shapedefaults": {
           "line": {
            "color": "#2a3f5f"
           }
          },
          "ternary": {
           "aaxis": {
            "gridcolor": "white",
            "linecolor": "white",
            "ticks": ""
           },
           "baxis": {
            "gridcolor": "white",
            "linecolor": "white",
            "ticks": ""
           },
           "bgcolor": "#E5ECF6",
           "caxis": {
            "gridcolor": "white",
            "linecolor": "white",
            "ticks": ""
           }
          },
          "title": {
           "x": 0.05
          },
          "xaxis": {
           "automargin": true,
           "gridcolor": "white",
           "linecolor": "white",
           "ticks": "",
           "title": {
            "standoff": 15
           },
           "zerolinecolor": "white",
           "zerolinewidth": 2
          },
          "yaxis": {
           "automargin": true,
           "gridcolor": "white",
           "linecolor": "white",
           "ticks": "",
           "title": {
            "standoff": 15
           },
           "zerolinecolor": "white",
           "zerolinewidth": 2
          }
         }
        },
        "title": {
         "text": "Income Distribution by Native Region(%)"
        },
        "xaxis": {
         "anchor": "y",
         "autorange": true,
         "domain": [
          0,
          1
         ],
         "range": [
          -0.5,
          6.5
         ],
         "title": {
          "text": "native_region"
         },
         "type": "category"
        },
        "yaxis": {
         "anchor": "x",
         "autorange": true,
         "domain": [
          0,
          1
         ],
         "range": [
          0,
          93.61189232623545
         ],
         "title": {
          "text": "percentage"
         },
         "type": "linear"
        }
       }
      },
      "image/png": "[encoded data removed]"
     },
     "metadata": {},
     "output_type": "display_data"
    }
   ],
   "source": [
    "fig= px.bar(\n",
    "    adult_df_income_native_region,\n",
    "    x = 'native_region',\n",
    "    y = 'percentage',\n",
    "    color= 'income',\n",
    "    title='Income Distribution by Native Region(%)',\n",
    "    barmode = 'group',\n",
    "    height=400,\n",
    "    text= 'percentage',\n",
    "    color_discrete_sequence=px.colors.sequential.RdBu,\n",
    ")\n",
    "fig.update_traces(texttemplate='%{text:.2f}%')\n",
    "fig.update_traces(textposition='outside')\n",
    "fig.show()\n",
    "fig.write_image(os.path.join(results_dir,'income_distribution_Native_region_pie_chart.jpg'))\n",
    "fig.write_image(os.path.join(results_dir,'income_distribution_Native_region_pie_chart.png'))\n",
    "fig.write_html(os.path.join(results_dir,'income_distribution_Native_region_pie_chart.html'))\n"
   ]
  },
  {
   "cell_type": "code",
   "execution_count": 165,
   "id": "c310331e-832e-4438-8512-407d06a2374a",
   "metadata": {},
   "outputs": [
    {
     "data": {
      "text/html": [
       "<div>\n",
       "<style scoped>\n",
       "    .dataframe tbody tr th:only-of-type {\n",
       "        vertical-align: middle;\n",
       "    }\n",
       "\n",
       "    .dataframe tbody tr th {\n",
       "        vertical-align: top;\n",
       "    }\n",
       "\n",
       "    .dataframe thead th {\n",
       "        text-align: right;\n",
       "    }\n",
       "</style>\n",
       "<table border=\"1\" class=\"dataframe\">\n",
       "  <thead>\n",
       "    <tr style=\"text-align: right;\">\n",
       "      <th></th>\n",
       "      <th>race</th>\n",
       "      <th>income</th>\n",
       "      <th>total_income_distr</th>\n",
       "    </tr>\n",
       "  </thead>\n",
       "  <tbody>\n",
       "    <tr>\n",
       "      <th>0</th>\n",
       "      <td>american indian or eskimo</td>\n",
       "      <td>&lt;=50k</td>\n",
       "      <td>275</td>\n",
       "    </tr>\n",
       "    <tr>\n",
       "      <th>1</th>\n",
       "      <td>american indian or eskimo</td>\n",
       "      <td>&gt;50k</td>\n",
       "      <td>36</td>\n",
       "    </tr>\n",
       "    <tr>\n",
       "      <th>2</th>\n",
       "      <td>asian or pacific islander</td>\n",
       "      <td>&lt;=50k</td>\n",
       "      <td>762</td>\n",
       "    </tr>\n",
       "    <tr>\n",
       "      <th>3</th>\n",
       "      <td>asian or pacific islander</td>\n",
       "      <td>&gt;50k</td>\n",
       "      <td>276</td>\n",
       "    </tr>\n",
       "    <tr>\n",
       "      <th>4</th>\n",
       "      <td>black</td>\n",
       "      <td>&lt;=50k</td>\n",
       "      <td>2735</td>\n",
       "    </tr>\n",
       "    <tr>\n",
       "      <th>5</th>\n",
       "      <td>black</td>\n",
       "      <td>&gt;50k</td>\n",
       "      <td>387</td>\n",
       "    </tr>\n",
       "    <tr>\n",
       "      <th>6</th>\n",
       "      <td>other</td>\n",
       "      <td>&lt;=50k</td>\n",
       "      <td>246</td>\n",
       "    </tr>\n",
       "    <tr>\n",
       "      <th>7</th>\n",
       "      <td>other</td>\n",
       "      <td>&gt;50k</td>\n",
       "      <td>25</td>\n",
       "    </tr>\n",
       "    <tr>\n",
       "      <th>8</th>\n",
       "      <td>white</td>\n",
       "      <td>&lt;=50k</td>\n",
       "      <td>20660</td>\n",
       "    </tr>\n",
       "    <tr>\n",
       "      <th>9</th>\n",
       "      <td>white</td>\n",
       "      <td>&gt;50k</td>\n",
       "      <td>7112</td>\n",
       "    </tr>\n",
       "  </tbody>\n",
       "</table>\n",
       "</div>"
      ],
      "text/plain": [
       "                        race income  total_income_distr\n",
       "0  american indian or eskimo  <=50k                 275\n",
       "1  american indian or eskimo   >50k                  36\n",
       "2  asian or pacific islander  <=50k                 762\n",
       "3  asian or pacific islander   >50k                 276\n",
       "4                      black  <=50k                2735\n",
       "5                      black   >50k                 387\n",
       "6                      other  <=50k                 246\n",
       "7                      other   >50k                  25\n",
       "8                      white  <=50k               20660\n",
       "9                      white   >50k                7112"
      ]
     },
     "execution_count": 165,
     "metadata": {},
     "output_type": "execute_result"
    }
   ],
   "source": [
    "adult_df_income_race = adult_df.groupby(['race', 'income']).size().reset_index(name='total_income_distr')\n",
    "adult_df_income_race                                                                 "
   ]
  },
  {
   "cell_type": "code",
   "execution_count": 166,
   "id": "ed758f62-e52a-4ca5-9a21-fff8a8996cae",
   "metadata": {},
   "outputs": [
    {
     "data": {
      "text/html": [
       "<div>\n",
       "<style scoped>\n",
       "    .dataframe tbody tr th:only-of-type {\n",
       "        vertical-align: middle;\n",
       "    }\n",
       "\n",
       "    .dataframe tbody tr th {\n",
       "        vertical-align: top;\n",
       "    }\n",
       "\n",
       "    .dataframe thead th {\n",
       "        text-align: right;\n",
       "    }\n",
       "</style>\n",
       "<table border=\"1\" class=\"dataframe\">\n",
       "  <thead>\n",
       "    <tr style=\"text-align: right;\">\n",
       "      <th></th>\n",
       "      <th>race</th>\n",
       "      <th>income</th>\n",
       "      <th>total_income_distr</th>\n",
       "      <th>percentage</th>\n",
       "    </tr>\n",
       "  </thead>\n",
       "  <tbody>\n",
       "    <tr>\n",
       "      <th>0</th>\n",
       "      <td>american indian or eskimo</td>\n",
       "      <td>&lt;=50k</td>\n",
       "      <td>275</td>\n",
       "      <td>88.424437</td>\n",
       "    </tr>\n",
       "    <tr>\n",
       "      <th>1</th>\n",
       "      <td>american indian or eskimo</td>\n",
       "      <td>&gt;50k</td>\n",
       "      <td>36</td>\n",
       "      <td>11.575563</td>\n",
       "    </tr>\n",
       "    <tr>\n",
       "      <th>2</th>\n",
       "      <td>asian or pacific islander</td>\n",
       "      <td>&lt;=50k</td>\n",
       "      <td>762</td>\n",
       "      <td>73.410405</td>\n",
       "    </tr>\n",
       "    <tr>\n",
       "      <th>3</th>\n",
       "      <td>asian or pacific islander</td>\n",
       "      <td>&gt;50k</td>\n",
       "      <td>276</td>\n",
       "      <td>26.589595</td>\n",
       "    </tr>\n",
       "    <tr>\n",
       "      <th>4</th>\n",
       "      <td>black</td>\n",
       "      <td>&lt;=50k</td>\n",
       "      <td>2735</td>\n",
       "      <td>87.604100</td>\n",
       "    </tr>\n",
       "    <tr>\n",
       "      <th>5</th>\n",
       "      <td>black</td>\n",
       "      <td>&gt;50k</td>\n",
       "      <td>387</td>\n",
       "      <td>12.395900</td>\n",
       "    </tr>\n",
       "    <tr>\n",
       "      <th>6</th>\n",
       "      <td>other</td>\n",
       "      <td>&lt;=50k</td>\n",
       "      <td>246</td>\n",
       "      <td>90.774908</td>\n",
       "    </tr>\n",
       "    <tr>\n",
       "      <th>7</th>\n",
       "      <td>other</td>\n",
       "      <td>&gt;50k</td>\n",
       "      <td>25</td>\n",
       "      <td>9.225092</td>\n",
       "    </tr>\n",
       "    <tr>\n",
       "      <th>8</th>\n",
       "      <td>white</td>\n",
       "      <td>&lt;=50k</td>\n",
       "      <td>20660</td>\n",
       "      <td>74.391473</td>\n",
       "    </tr>\n",
       "    <tr>\n",
       "      <th>9</th>\n",
       "      <td>white</td>\n",
       "      <td>&gt;50k</td>\n",
       "      <td>7112</td>\n",
       "      <td>25.608527</td>\n",
       "    </tr>\n",
       "  </tbody>\n",
       "</table>\n",
       "</div>"
      ],
      "text/plain": [
       "                        race income  total_income_distr  percentage\n",
       "0  american indian or eskimo  <=50k                 275   88.424437\n",
       "1  american indian or eskimo   >50k                  36   11.575563\n",
       "2  asian or pacific islander  <=50k                 762   73.410405\n",
       "3  asian or pacific islander   >50k                 276   26.589595\n",
       "4                      black  <=50k                2735   87.604100\n",
       "5                      black   >50k                 387   12.395900\n",
       "6                      other  <=50k                 246   90.774908\n",
       "7                      other   >50k                  25    9.225092\n",
       "8                      white  <=50k               20660   74.391473\n",
       "9                      white   >50k                7112   25.608527"
      ]
     },
     "execution_count": 166,
     "metadata": {},
     "output_type": "execute_result"
    }
   ],
   "source": [
    "total_per_allrace=adult_df_income_race.groupby('race')['total_income_distr'].transform('sum')\n",
    "adult_df_income_race['percentage']=(adult_df_income_race['total_income_distr']/total_per_allrace)*100\n",
    "adult_df_income_race"
   ]
  },
  {
   "cell_type": "code",
   "execution_count": null,
   "id": "dfdf8e18-1c84-4213-85c5-b9af47c75548",
   "metadata": {},
   "outputs": [
    {
     "data": {
      "application/vnd.plotly.v1+json": {
       "config": {
        "plotlyServerURL": "https://plot.ly"
       },
       "data": [
        {
         "alignmentgroup": "True",
         "hovertemplate": "income=<=50k<br>race=%{x}<br>percentage=%{text}<extra></extra>",
         "legendgroup": "<=50k",
         "marker": {
          "color": "rgb(103,0,31)",
          "pattern": {
           "shape": ""
          }
         },
         "name": "<=50k",
         "offsetgroup": "<=50k",
         "orientation": "v",
         "showlegend": true,
         "text": {
          "_inputArray": {
           "0": 88.42443729903538,
           "1": 73.41040462427746,
           "2": 87.6040999359385,
           "3": 90.7749077490775,
           "4": 74.39147342647271,
           "bdata": "z6MP+ykbVkCH2cERRFpSQMgXx5Kp5lVAHO2rFpixVkAE/Y7mDZlSQA==",
           "dtype": "f8",
           "shape": "5"
          },
          "bdata": "z6MP+ykbVkCH2cERRFpSQMgXx5Kp5lVAHO2rFpixVkAE/Y7mDZlSQA==",
          "dtype": "f8"
         },
         "textposition": "outside",
         "texttemplate": "%{text:.2f}%",
         "type": "bar",
         "x": [
          "american indian or eskimo",
          "asian or pacific islander",
          "black",
          "other",
          "white"
         ],
         "xaxis": "x",
         "y": {
          "_inputArray": {
           "0": 88.42443729903538,
           "1": 73.41040462427746,
           "2": 87.6040999359385,
           "3": 90.7749077490775,
           "4": 74.39147342647271,
           "bdata": "z6MP+ykbVkCH2cERRFpSQMgXx5Kp5lVAHO2rFpixVkAE/Y7mDZlSQA==",
           "dtype": "f8",
           "shape": "5"
          },
          "bdata": "z6MP+ykbVkCH2cERRFpSQMgXx5Kp5lVAHO2rFpixVkAE/Y7mDZlSQA==",
          "dtype": "f8"
         },
         "yaxis": "y"
        },
        {
         "alignmentgroup": "True",
         "hovertemplate": "income=>50k<br>race=%{x}<br>percentage=%{text}<extra></extra>",
         "legendgroup": ">50k",
         "marker": {
          "color": "rgb(178,24,43)",
          "pattern": {
           "shape": ""
          }
         },
         "name": ">50k",
         "offsetgroup": ">50k",
         "orientation": "v",
         "showlegend": true,
         "text": {
          "_inputArray": {
           "0": 11.57556270096463,
           "1": 26.589595375722542,
           "2": 12.395900064061498,
           "3": 9.22509225092251,
           "4": 25.608526573527296,
           "bdata": "i+GCJ7AmJ0Dlmfi475Y6QMNBx2mzyihAJZegSj9zIkDzC8RlyJs5QA==",
           "dtype": "f8",
           "shape": "5"
          },
          "bdata": "i+GCJ7AmJ0Dlmfi475Y6QMNBx2mzyihAJZegSj9zIkDzC8RlyJs5QA==",
          "dtype": "f8"
         },
         "textposition": "outside",
         "texttemplate": "%{text:.2f}%",
         "type": "bar",
         "x": [
          "american indian or eskimo",
          "asian or pacific islander",
          "black",
          "other",
          "white"
         ],
         "xaxis": "x",
         "y": {
          "_inputArray": {
           "0": 11.57556270096463,
           "1": 26.589595375722542,
           "2": 12.395900064061498,
           "3": 9.22509225092251,
           "4": 25.608526573527296,
           "bdata": "i+GCJ7AmJ0Dlmfi475Y6QMNBx2mzyihAJZegSj9zIkDzC8RlyJs5QA==",
           "dtype": "f8",
           "shape": "5"
          },
          "bdata": "i+GCJ7AmJ0Dlmfi475Y6QMNBx2mzyihAJZegSj9zIkDzC8RlyJs5QA==",
          "dtype": "f8"
         },
         "yaxis": "y"
        }
       ],
       "layout": {
        "autosize": true,
        "barmode": "group",
        "legend": {
         "title": {
          "text": "income"
         },
         "tracegroupgap": 0
        },
        "template": {
         "data": {
          "bar": [
           {
            "error_x": {
             "color": "#2a3f5f"
            },
            "error_y": {
             "color": "#2a3f5f"
            },
            "marker": {
             "line": {
              "color": "#E5ECF6",
              "width": 0.5
             },
             "pattern": {
              "fillmode": "overlay",
              "size": 10,
              "solidity": 0.2
             }
            },
            "type": "bar"
           }
          ],
          "barpolar": [
           {
            "marker": {
             "line": {
              "color": "#E5ECF6",
              "width": 0.5
             },
             "pattern": {
              "fillmode": "overlay",
              "size": 10,
              "solidity": 0.2
             }
            },
            "type": "barpolar"
           }
          ],
          "carpet": [
           {
            "aaxis": {
             "endlinecolor": "#2a3f5f",
             "gridcolor": "white",
             "linecolor": "white",
             "minorgridcolor": "white",
             "startlinecolor": "#2a3f5f"
            },
            "baxis": {
             "endlinecolor": "#2a3f5f",
             "gridcolor": "white",
             "linecolor": "white",
             "minorgridcolor": "white",
             "startlinecolor": "#2a3f5f"
            },
            "type": "carpet"
           }
          ],
          "choropleth": [
           {
            "colorbar": {
             "outlinewidth": 0,
             "ticks": ""
            },
            "type": "choropleth"
           }
          ],
          "contour": [
           {
            "colorbar": {
             "outlinewidth": 0,
             "ticks": ""
            },
            "colorscale": [
             [
              0,
              "#0d0887"
             ],
             [
              0.1111111111111111,
              "#46039f"
             ],
             [
              0.2222222222222222,
              "#7201a8"
             ],
             [
              0.3333333333333333,
              "#9c179e"
             ],
             [
              0.4444444444444444,
              "#bd3786"
             ],
             [
              0.5555555555555556,
              "#d8576b"
             ],
             [
              0.6666666666666666,
              "#ed7953"
             ],
             [
              0.7777777777777778,
              "#fb9f3a"
             ],
             [
              0.8888888888888888,
              "#fdca26"
             ],
             [
              1,
              "#f0f921"
             ]
            ],
            "type": "contour"
           }
          ],
          "contourcarpet": [
           {
            "colorbar": {
             "outlinewidth": 0,
             "ticks": ""
            },
            "type": "contourcarpet"
           }
          ],
          "heatmap": [
           {
            "colorbar": {
             "outlinewidth": 0,
             "ticks": ""
            },
            "colorscale": [
             [
              0,
              "#0d0887"
             ],
             [
              0.1111111111111111,
              "#46039f"
             ],
             [
              0.2222222222222222,
              "#7201a8"
             ],
             [
              0.3333333333333333,
              "#9c179e"
             ],
             [
              0.4444444444444444,
              "#bd3786"
             ],
             [
              0.5555555555555556,
              "#d8576b"
             ],
             [
              0.6666666666666666,
              "#ed7953"
             ],
             [
              0.7777777777777778,
              "#fb9f3a"
             ],
             [
              0.8888888888888888,
              "#fdca26"
             ],
             [
              1,
              "#f0f921"
             ]
            ],
            "type": "heatmap"
           }
          ],
          "histogram": [
           {
            "marker": {
             "pattern": {
              "fillmode": "overlay",
              "size": 10,
              "solidity": 0.2
             }
            },
            "type": "histogram"
           }
          ],
          "histogram2d": [
           {
            "colorbar": {
             "outlinewidth": 0,
             "ticks": ""
            },
            "colorscale": [
             [
              0,
              "#0d0887"
             ],
             [
              0.1111111111111111,
              "#46039f"
             ],
             [
              0.2222222222222222,
              "#7201a8"
             ],
             [
              0.3333333333333333,
              "#9c179e"
             ],
             [
              0.4444444444444444,
              "#bd3786"
             ],
             [
              0.5555555555555556,
              "#d8576b"
             ],
             [
              0.6666666666666666,
              "#ed7953"
             ],
             [
              0.7777777777777778,
              "#fb9f3a"
             ],
             [
              0.8888888888888888,
              "#fdca26"
             ],
             [
              1,
              "#f0f921"
             ]
            ],
            "type": "histogram2d"
           }
          ],
          "histogram2dcontour": [
           {
            "colorbar": {
             "outlinewidth": 0,
             "ticks": ""
            },
            "colorscale": [
             [
              0,
              "#0d0887"
             ],
             [
              0.1111111111111111,
              "#46039f"
             ],
             [
              0.2222222222222222,
              "#7201a8"
             ],
             [
              0.3333333333333333,
              "#9c179e"
             ],
             [
              0.4444444444444444,
              "#bd3786"
             ],
             [
              0.5555555555555556,
              "#d8576b"
             ],
             [
              0.6666666666666666,
              "#ed7953"
             ],
             [
              0.7777777777777778,
              "#fb9f3a"
             ],
             [
              0.8888888888888888,
              "#fdca26"
             ],
             [
              1,
              "#f0f921"
             ]
            ],
            "type": "histogram2dcontour"
           }
          ],
          "mesh3d": [
           {
            "colorbar": {
             "outlinewidth": 0,
             "ticks": ""
            },
            "type": "mesh3d"
           }
          ],
          "parcoords": [
           {
            "line": {
             "colorbar": {
              "outlinewidth": 0,
              "ticks": ""
             }
            },
            "type": "parcoords"
           }
          ],
          "pie": [
           {
            "automargin": true,
            "type": "pie"
           }
          ],
          "scatter": [
           {
            "fillpattern": {
             "fillmode": "overlay",
             "size": 10,
             "solidity": 0.2
            },
            "type": "scatter"
           }
          ],
          "scatter3d": [
           {
            "line": {
             "colorbar": {
              "outlinewidth": 0,
              "ticks": ""
             }
            },
            "marker": {
             "colorbar": {
              "outlinewidth": 0,
              "ticks": ""
             }
            },
            "type": "scatter3d"
           }
          ],
          "scattercarpet": [
           {
            "marker": {
             "colorbar": {
              "outlinewidth": 0,
              "ticks": ""
             }
            },
            "type": "scattercarpet"
           }
          ],
          "scattergeo": [
           {
            "marker": {
             "colorbar": {
              "outlinewidth": 0,
              "ticks": ""
             }
            },
            "type": "scattergeo"
           }
          ],
          "scattergl": [
           {
            "marker": {
             "colorbar": {
              "outlinewidth": 0,
              "ticks": ""
             }
            },
            "type": "scattergl"
           }
          ],
          "scattermap": [
           {
            "marker": {
             "colorbar": {
              "outlinewidth": 0,
              "ticks": ""
             }
            },
            "type": "scattermap"
           }
          ],
          "scattermapbox": [
           {
            "marker": {
             "colorbar": {
              "outlinewidth": 0,
              "ticks": ""
             }
            },
            "type": "scattermapbox"
           }
          ],
          "scatterpolar": [
           {
            "marker": {
             "colorbar": {
              "outlinewidth": 0,
              "ticks": ""
             }
            },
            "type": "scatterpolar"
           }
          ],
          "scatterpolargl": [
           {
            "marker": {
             "colorbar": {
              "outlinewidth": 0,
              "ticks": ""
             }
            },
            "type": "scatterpolargl"
           }
          ],
          "scatterternary": [
           {
            "marker": {
             "colorbar": {
              "outlinewidth": 0,
              "ticks": ""
             }
            },
            "type": "scatterternary"
           }
          ],
          "surface": [
           {
            "colorbar": {
             "outlinewidth": 0,
             "ticks": ""
            },
            "colorscale": [
             [
              0,
              "#0d0887"
             ],
             [
              0.1111111111111111,
              "#46039f"
             ],
             [
              0.2222222222222222,
              "#7201a8"
             ],
             [
              0.3333333333333333,
              "#9c179e"
             ],
             [
              0.4444444444444444,
              "#bd3786"
             ],
             [
              0.5555555555555556,
              "#d8576b"
             ],
             [
              0.6666666666666666,
              "#ed7953"
             ],
             [
              0.7777777777777778,
              "#fb9f3a"
             ],
             [
              0.8888888888888888,
              "#fdca26"
             ],
             [
              1,
              "#f0f921"
             ]
            ],
            "type": "surface"
           }
          ],
          "table": [
           {
            "cells": {
             "fill": {
              "color": "#EBF0F8"
             },
             "line": {
              "color": "white"
             }
            },
            "header": {
             "fill": {
              "color": "#C8D4E3"
             },
             "line": {
              "color": "white"
             }
            },
            "type": "table"
           }
          ]
         },
         "layout": {
          "annotationdefaults": {
           "arrowcolor": "#2a3f5f",
           "arrowhead": 0,
           "arrowwidth": 1
          },
          "autotypenumbers": "strict",
          "coloraxis": {
           "colorbar": {
            "outlinewidth": 0,
            "ticks": ""
           }
          },
          "colorscale": {
           "diverging": [
            [
             0,
             "#8e0152"
            ],
            [
             0.1,
             "#c51b7d"
            ],
            [
             0.2,
             "#de77ae"
            ],
            [
             0.3,
             "#f1b6da"
            ],
            [
             0.4,
             "#fde0ef"
            ],
            [
             0.5,
             "#f7f7f7"
            ],
            [
             0.6,
             "#e6f5d0"
            ],
            [
             0.7,
             "#b8e186"
            ],
            [
             0.8,
             "#7fbc41"
            ],
            [
             0.9,
             "#4d9221"
            ],
            [
             1,
             "#276419"
            ]
           ],
           "sequential": [
            [
             0,
             "#0d0887"
            ],
            [
             0.1111111111111111,
             "#46039f"
            ],
            [
             0.2222222222222222,
             "#7201a8"
            ],
            [
             0.3333333333333333,
             "#9c179e"
            ],
            [
             0.4444444444444444,
             "#bd3786"
            ],
            [
             0.5555555555555556,
             "#d8576b"
            ],
            [
             0.6666666666666666,
             "#ed7953"
            ],
            [
             0.7777777777777778,
             "#fb9f3a"
            ],
            [
             0.8888888888888888,
             "#fdca26"
            ],
            [
             1,
             "#f0f921"
            ]
           ],
           "sequentialminus": [
            [
             0,
             "#0d0887"
            ],
            [
             0.1111111111111111,
             "#46039f"
            ],
            [
             0.2222222222222222,
             "#7201a8"
            ],
            [
             0.3333333333333333,
             "#9c179e"
            ],
            [
             0.4444444444444444,
             "#bd3786"
            ],
            [
             0.5555555555555556,
             "#d8576b"
            ],
            [
             0.6666666666666666,
             "#ed7953"
            ],
            [
             0.7777777777777778,
             "#fb9f3a"
            ],
            [
             0.8888888888888888,
             "#fdca26"
            ],
            [
             1,
             "#f0f921"
            ]
           ]
          },
          "colorway": [
           "#636efa",
           "#EF553B",
           "#00cc96",
           "#ab63fa",
           "#FFA15A",
           "#19d3f3",
           "#FF6692",
           "#B6E880",
           "#FF97FF",
           "#FECB52"
          ],
          "font": {
           "color": "#2a3f5f"
          },
          "geo": {
           "bgcolor": "white",
           "lakecolor": "white",
           "landcolor": "#E5ECF6",
           "showlakes": true,
           "showland": true,
           "subunitcolor": "white"
          },
          "hoverlabel": {
           "align": "left"
          },
          "hovermode": "closest",
          "mapbox": {
           "style": "light"
          },
          "paper_bgcolor": "white",
          "plot_bgcolor": "#E5ECF6",
          "polar": {
           "angularaxis": {
            "gridcolor": "white",
            "linecolor": "white",
            "ticks": ""
           },
           "bgcolor": "#E5ECF6",
           "radialaxis": {
            "gridcolor": "white",
            "linecolor": "white",
            "ticks": ""
           }
          },
          "scene": {
           "xaxis": {
            "backgroundcolor": "#E5ECF6",
            "gridcolor": "white",
            "gridwidth": 2,
            "linecolor": "white",
            "showbackground": true,
            "ticks": "",
            "zerolinecolor": "white"
           },
           "yaxis": {
            "backgroundcolor": "#E5ECF6",
            "gridcolor": "white",
            "gridwidth": 2,
            "linecolor": "white",
            "showbackground": true,
            "ticks": "",
            "zerolinecolor": "white"
           },
           "zaxis": {
            "backgroundcolor": "#E5ECF6",
            "gridcolor": "white",
            "gridwidth": 2,
            "linecolor": "white",
            "showbackground": true,
            "ticks": "",
            "zerolinecolor": "white"
           }
          },
          "shapedefaults": {
           "line": {
            "color": "#2a3f5f"
           }
          },
          "ternary": {
           "aaxis": {
            "gridcolor": "white",
            "linecolor": "white",
            "ticks": ""
           },
           "baxis": {
            "gridcolor": "white",
            "linecolor": "white",
            "ticks": ""
           },
           "bgcolor": "#E5ECF6",
           "caxis": {
            "gridcolor": "white",
            "linecolor": "white",
            "ticks": ""
           }
          },
          "title": {
           "x": 0.05
          },
          "xaxis": {
           "automargin": true,
           "gridcolor": "white",
           "linecolor": "white",
           "ticks": "",
           "title": {
            "standoff": 15
           },
           "zerolinecolor": "white",
           "zerolinewidth": 2
          },
          "yaxis": {
           "automargin": true,
           "gridcolor": "white",
           "linecolor": "white",
           "ticks": "",
           "title": {
            "standoff": 15
           },
           "zerolinecolor": "white",
           "zerolinewidth": 2
          }
         }
        },
        "title": {
         "text": "Income Distribution by Race(%)"
        },
        "xaxis": {
         "anchor": "y",
         "autorange": true,
         "domain": [
          0,
          1
         ],
         "range": [
          -0.5,
          4.5
         ],
         "title": {
          "text": "race"
         },
         "type": "category"
        },
        "yaxis": {
         "anchor": "x",
         "autorange": true,
         "domain": [
          0,
          1
         ],
         "range": [
          0,
          95.55253447271316
         ],
         "title": {
          "text": "percentage"
         },
         "type": "linear"
        }
       }
      },
      "image/png": "[encoded data removed]"
     },
     "metadata": {},
     "output_type": "display_data"
    }
   ],
   "source": [
    "fig= px.bar(\n",
    "    adult_df_income_race,\n",
    "    x = 'race',\n",
    "    y = 'percentage',\n",
    "    color= 'income',\n",
    "    title='Income Distribution by Race(%)',\n",
    "    barmode = 'group',\n",
    "    height=400,\n",
    "    text= 'percentage',\n",
    "    color_discrete_sequence=px.colors.sequential.RdBu,\n",
    ")\n",
    "fig.update_traces(texttemplate='%{text:.2f}%')\n",
    "fig.update_traces(textposition='outside')\n",
    "fig.update_layout()\n",
    "fig.show()\n",
    "fig.write_image(os.path.join(results_dir,'income_distribution_Native_region_race_chart.jpg'))\n",
    "fig.write_image(os.path.join(results_dir,'income_distribution_Native_region_race_chart.png'))\n",
    "fig.write_html(os.path.join(results_dir,'income_distribution_Native_region_race_chart.html'))\n"
   ]
  },
  {
   "cell_type": "code",
   "execution_count": 168,
   "id": "43fda746-a72a-47e6-87a1-09be0543aed7",
   "metadata": {},
   "outputs": [
    {
     "data": {
      "text/html": [
       "<div>\n",
       "<style scoped>\n",
       "    .dataframe tbody tr th:only-of-type {\n",
       "        vertical-align: middle;\n",
       "    }\n",
       "\n",
       "    .dataframe tbody tr th {\n",
       "        vertical-align: top;\n",
       "    }\n",
       "\n",
       "    .dataframe thead th {\n",
       "        text-align: right;\n",
       "    }\n",
       "</style>\n",
       "<table border=\"1\" class=\"dataframe\">\n",
       "  <thead>\n",
       "    <tr style=\"text-align: right;\">\n",
       "      <th></th>\n",
       "      <th>education_level</th>\n",
       "      <th>occupation_grouped</th>\n",
       "      <th>income</th>\n",
       "      <th>total_income_distr</th>\n",
       "    </tr>\n",
       "  </thead>\n",
       "  <tbody>\n",
       "    <tr>\n",
       "      <th>0</th>\n",
       "      <td>associate</td>\n",
       "      <td>blue collar</td>\n",
       "      <td>&lt;=50k</td>\n",
       "      <td>482</td>\n",
       "    </tr>\n",
       "    <tr>\n",
       "      <th>1</th>\n",
       "      <td>associate</td>\n",
       "      <td>blue collar</td>\n",
       "      <td>&gt;50k</td>\n",
       "      <td>166</td>\n",
       "    </tr>\n",
       "    <tr>\n",
       "      <th>2</th>\n",
       "      <td>associate</td>\n",
       "      <td>service</td>\n",
       "      <td>&lt;=50k</td>\n",
       "      <td>237</td>\n",
       "    </tr>\n",
       "    <tr>\n",
       "      <th>3</th>\n",
       "      <td>associate</td>\n",
       "      <td>service</td>\n",
       "      <td>&gt;50k</td>\n",
       "      <td>44</td>\n",
       "    </tr>\n",
       "    <tr>\n",
       "      <th>4</th>\n",
       "      <td>associate</td>\n",
       "      <td>unknown</td>\n",
       "      <td>&lt;=50k</td>\n",
       "      <td>89</td>\n",
       "    </tr>\n",
       "    <tr>\n",
       "      <th>5</th>\n",
       "      <td>associate</td>\n",
       "      <td>unknown</td>\n",
       "      <td>&gt;50k</td>\n",
       "      <td>19</td>\n",
       "    </tr>\n",
       "    <tr>\n",
       "      <th>6</th>\n",
       "      <td>associate</td>\n",
       "      <td>white collar</td>\n",
       "      <td>&lt;=50k</td>\n",
       "      <td>1015</td>\n",
       "    </tr>\n",
       "    <tr>\n",
       "      <th>7</th>\n",
       "      <td>associate</td>\n",
       "      <td>white collar</td>\n",
       "      <td>&gt;50k</td>\n",
       "      <td>397</td>\n",
       "    </tr>\n",
       "    <tr>\n",
       "      <th>8</th>\n",
       "      <td>highschoolgraduate</td>\n",
       "      <td>blue collar</td>\n",
       "      <td>&lt;=50k</td>\n",
       "      <td>3976</td>\n",
       "    </tr>\n",
       "    <tr>\n",
       "      <th>9</th>\n",
       "      <td>highschoolgraduate</td>\n",
       "      <td>blue collar</td>\n",
       "      <td>&gt;50k</td>\n",
       "      <td>796</td>\n",
       "    </tr>\n",
       "    <tr>\n",
       "      <th>10</th>\n",
       "      <td>highschoolgraduate</td>\n",
       "      <td>miritary</td>\n",
       "      <td>&lt;=50k</td>\n",
       "      <td>4</td>\n",
       "    </tr>\n",
       "    <tr>\n",
       "      <th>11</th>\n",
       "      <td>highschoolgraduate</td>\n",
       "      <td>service</td>\n",
       "      <td>&lt;=50k</td>\n",
       "      <td>1444</td>\n",
       "    </tr>\n",
       "    <tr>\n",
       "      <th>12</th>\n",
       "      <td>highschoolgraduate</td>\n",
       "      <td>service</td>\n",
       "      <td>&gt;50k</td>\n",
       "      <td>100</td>\n",
       "    </tr>\n",
       "    <tr>\n",
       "      <th>13</th>\n",
       "      <td>highschoolgraduate</td>\n",
       "      <td>unknown</td>\n",
       "      <td>&lt;=50k</td>\n",
       "      <td>487</td>\n",
       "    </tr>\n",
       "    <tr>\n",
       "      <th>14</th>\n",
       "      <td>highschoolgraduate</td>\n",
       "      <td>unknown</td>\n",
       "      <td>&gt;50k</td>\n",
       "      <td>46</td>\n",
       "    </tr>\n",
       "    <tr>\n",
       "      <th>15</th>\n",
       "      <td>highschoolgraduate</td>\n",
       "      <td>white collar</td>\n",
       "      <td>&lt;=50k</td>\n",
       "      <td>2900</td>\n",
       "    </tr>\n",
       "    <tr>\n",
       "      <th>16</th>\n",
       "      <td>highschoolgraduate</td>\n",
       "      <td>white collar</td>\n",
       "      <td>&gt;50k</td>\n",
       "      <td>731</td>\n",
       "    </tr>\n",
       "    <tr>\n",
       "      <th>17</th>\n",
       "      <td>preschool</td>\n",
       "      <td>blue collar</td>\n",
       "      <td>&lt;=50k</td>\n",
       "      <td>25</td>\n",
       "    </tr>\n",
       "    <tr>\n",
       "      <th>18</th>\n",
       "      <td>preschool</td>\n",
       "      <td>service</td>\n",
       "      <td>&lt;=50k</td>\n",
       "      <td>17</td>\n",
       "    </tr>\n",
       "    <tr>\n",
       "      <th>19</th>\n",
       "      <td>preschool</td>\n",
       "      <td>unknown</td>\n",
       "      <td>&lt;=50k</td>\n",
       "      <td>5</td>\n",
       "    </tr>\n",
       "    <tr>\n",
       "      <th>20</th>\n",
       "      <td>preschool</td>\n",
       "      <td>white collar</td>\n",
       "      <td>&lt;=50k</td>\n",
       "      <td>3</td>\n",
       "    </tr>\n",
       "    <tr>\n",
       "      <th>21</th>\n",
       "      <td>primary</td>\n",
       "      <td>blue collar</td>\n",
       "      <td>&lt;=50k</td>\n",
       "      <td>634</td>\n",
       "    </tr>\n",
       "    <tr>\n",
       "      <th>22</th>\n",
       "      <td>primary</td>\n",
       "      <td>blue collar</td>\n",
       "      <td>&gt;50k</td>\n",
       "      <td>40</td>\n",
       "    </tr>\n",
       "    <tr>\n",
       "      <th>23</th>\n",
       "      <td>primary</td>\n",
       "      <td>service</td>\n",
       "      <td>&lt;=50k</td>\n",
       "      <td>243</td>\n",
       "    </tr>\n",
       "    <tr>\n",
       "      <th>24</th>\n",
       "      <td>primary</td>\n",
       "      <td>service</td>\n",
       "      <td>&gt;50k</td>\n",
       "      <td>1</td>\n",
       "    </tr>\n",
       "    <tr>\n",
       "      <th>25</th>\n",
       "      <td>primary</td>\n",
       "      <td>unknown</td>\n",
       "      <td>&lt;=50k</td>\n",
       "      <td>111</td>\n",
       "    </tr>\n",
       "    <tr>\n",
       "      <th>26</th>\n",
       "      <td>primary</td>\n",
       "      <td>unknown</td>\n",
       "      <td>&gt;50k</td>\n",
       "      <td>4</td>\n",
       "    </tr>\n",
       "    <tr>\n",
       "      <th>27</th>\n",
       "      <td>primary</td>\n",
       "      <td>white collar</td>\n",
       "      <td>&lt;=50k</td>\n",
       "      <td>93</td>\n",
       "    </tr>\n",
       "    <tr>\n",
       "      <th>28</th>\n",
       "      <td>primary</td>\n",
       "      <td>white collar</td>\n",
       "      <td>&gt;50k</td>\n",
       "      <td>17</td>\n",
       "    </tr>\n",
       "    <tr>\n",
       "      <th>29</th>\n",
       "      <td>samecollege</td>\n",
       "      <td>blue collar</td>\n",
       "      <td>&lt;=50k</td>\n",
       "      <td>1503</td>\n",
       "    </tr>\n",
       "    <tr>\n",
       "      <th>30</th>\n",
       "      <td>samecollege</td>\n",
       "      <td>blue collar</td>\n",
       "      <td>&gt;50k</td>\n",
       "      <td>397</td>\n",
       "    </tr>\n",
       "    <tr>\n",
       "      <th>31</th>\n",
       "      <td>samecollege</td>\n",
       "      <td>miritary</td>\n",
       "      <td>&lt;=50k</td>\n",
       "      <td>2</td>\n",
       "    </tr>\n",
       "    <tr>\n",
       "      <th>32</th>\n",
       "      <td>samecollege</td>\n",
       "      <td>service</td>\n",
       "      <td>&lt;=50k</td>\n",
       "      <td>902</td>\n",
       "    </tr>\n",
       "    <tr>\n",
       "      <th>33</th>\n",
       "      <td>samecollege</td>\n",
       "      <td>service</td>\n",
       "      <td>&gt;50k</td>\n",
       "      <td>95</td>\n",
       "    </tr>\n",
       "    <tr>\n",
       "      <th>34</th>\n",
       "      <td>samecollege</td>\n",
       "      <td>unknown</td>\n",
       "      <td>&lt;=50k</td>\n",
       "      <td>481</td>\n",
       "    </tr>\n",
       "    <tr>\n",
       "      <th>35</th>\n",
       "      <td>samecollege</td>\n",
       "      <td>unknown</td>\n",
       "      <td>&gt;50k</td>\n",
       "      <td>35</td>\n",
       "    </tr>\n",
       "    <tr>\n",
       "      <th>36</th>\n",
       "      <td>samecollege</td>\n",
       "      <td>white collar</td>\n",
       "      <td>&lt;=50k</td>\n",
       "      <td>3004</td>\n",
       "    </tr>\n",
       "    <tr>\n",
       "      <th>37</th>\n",
       "      <td>samecollege</td>\n",
       "      <td>white collar</td>\n",
       "      <td>&gt;50k</td>\n",
       "      <td>858</td>\n",
       "    </tr>\n",
       "    <tr>\n",
       "      <th>38</th>\n",
       "      <td>secondary</td>\n",
       "      <td>blue collar</td>\n",
       "      <td>&lt;=50k</td>\n",
       "      <td>1349</td>\n",
       "    </tr>\n",
       "    <tr>\n",
       "      <th>39</th>\n",
       "      <td>secondary</td>\n",
       "      <td>blue collar</td>\n",
       "      <td>&gt;50k</td>\n",
       "      <td>116</td>\n",
       "    </tr>\n",
       "    <tr>\n",
       "      <th>40</th>\n",
       "      <td>secondary</td>\n",
       "      <td>miritary</td>\n",
       "      <td>&lt;=50k</td>\n",
       "      <td>1</td>\n",
       "    </tr>\n",
       "    <tr>\n",
       "      <th>41</th>\n",
       "      <td>secondary</td>\n",
       "      <td>service</td>\n",
       "      <td>&lt;=50k</td>\n",
       "      <td>663</td>\n",
       "    </tr>\n",
       "    <tr>\n",
       "      <th>42</th>\n",
       "      <td>secondary</td>\n",
       "      <td>service</td>\n",
       "      <td>&gt;50k</td>\n",
       "      <td>12</td>\n",
       "    </tr>\n",
       "    <tr>\n",
       "      <th>43</th>\n",
       "      <td>secondary</td>\n",
       "      <td>unknown</td>\n",
       "      <td>&lt;=50k</td>\n",
       "      <td>307</td>\n",
       "    </tr>\n",
       "    <tr>\n",
       "      <th>44</th>\n",
       "      <td>secondary</td>\n",
       "      <td>unknown</td>\n",
       "      <td>&gt;50k</td>\n",
       "      <td>5</td>\n",
       "    </tr>\n",
       "    <tr>\n",
       "      <th>45</th>\n",
       "      <td>secondary</td>\n",
       "      <td>white collar</td>\n",
       "      <td>&lt;=50k</td>\n",
       "      <td>552</td>\n",
       "    </tr>\n",
       "    <tr>\n",
       "      <th>46</th>\n",
       "      <td>secondary</td>\n",
       "      <td>white collar</td>\n",
       "      <td>&gt;50k</td>\n",
       "      <td>49</td>\n",
       "    </tr>\n",
       "    <tr>\n",
       "      <th>47</th>\n",
       "      <td>tertiary</td>\n",
       "      <td>blue collar</td>\n",
       "      <td>&lt;=50k</td>\n",
       "      <td>375</td>\n",
       "    </tr>\n",
       "    <tr>\n",
       "      <th>48</th>\n",
       "      <td>tertiary</td>\n",
       "      <td>blue collar</td>\n",
       "      <td>&gt;50k</td>\n",
       "      <td>183</td>\n",
       "    </tr>\n",
       "    <tr>\n",
       "      <th>49</th>\n",
       "      <td>tertiary</td>\n",
       "      <td>miritary</td>\n",
       "      <td>&lt;=50k</td>\n",
       "      <td>1</td>\n",
       "    </tr>\n",
       "    <tr>\n",
       "      <th>50</th>\n",
       "      <td>tertiary</td>\n",
       "      <td>miritary</td>\n",
       "      <td>&gt;50k</td>\n",
       "      <td>1</td>\n",
       "    </tr>\n",
       "    <tr>\n",
       "      <th>51</th>\n",
       "      <td>tertiary</td>\n",
       "      <td>service</td>\n",
       "      <td>&lt;=50k</td>\n",
       "      <td>232</td>\n",
       "    </tr>\n",
       "    <tr>\n",
       "      <th>52</th>\n",
       "      <td>tertiary</td>\n",
       "      <td>service</td>\n",
       "      <td>&gt;50k</td>\n",
       "      <td>97</td>\n",
       "    </tr>\n",
       "    <tr>\n",
       "      <th>53</th>\n",
       "      <td>tertiary</td>\n",
       "      <td>unknown</td>\n",
       "      <td>&lt;=50k</td>\n",
       "      <td>172</td>\n",
       "    </tr>\n",
       "    <tr>\n",
       "      <th>54</th>\n",
       "      <td>tertiary</td>\n",
       "      <td>unknown</td>\n",
       "      <td>&gt;50k</td>\n",
       "      <td>82</td>\n",
       "    </tr>\n",
       "    <tr>\n",
       "      <th>55</th>\n",
       "      <td>tertiary</td>\n",
       "      <td>white collar</td>\n",
       "      <td>&lt;=50k</td>\n",
       "      <td>3369</td>\n",
       "    </tr>\n",
       "    <tr>\n",
       "      <th>56</th>\n",
       "      <td>tertiary</td>\n",
       "      <td>white collar</td>\n",
       "      <td>&gt;50k</td>\n",
       "      <td>3545</td>\n",
       "    </tr>\n",
       "  </tbody>\n",
       "</table>\n",
       "</div>"
      ],
      "text/plain": [
       "       education_level occupation_grouped income  total_income_distr\n",
       "0            associate        blue collar  <=50k                 482\n",
       "1            associate        blue collar   >50k                 166\n",
       "2            associate            service  <=50k                 237\n",
       "3            associate            service   >50k                  44\n",
       "4            associate            unknown  <=50k                  89\n",
       "5            associate            unknown   >50k                  19\n",
       "6            associate       white collar  <=50k                1015\n",
       "7            associate       white collar   >50k                 397\n",
       "8   highschoolgraduate        blue collar  <=50k                3976\n",
       "9   highschoolgraduate        blue collar   >50k                 796\n",
       "10  highschoolgraduate           miritary  <=50k                   4\n",
       "11  highschoolgraduate            service  <=50k                1444\n",
       "12  highschoolgraduate            service   >50k                 100\n",
       "13  highschoolgraduate            unknown  <=50k                 487\n",
       "14  highschoolgraduate            unknown   >50k                  46\n",
       "15  highschoolgraduate       white collar  <=50k                2900\n",
       "16  highschoolgraduate       white collar   >50k                 731\n",
       "17           preschool        blue collar  <=50k                  25\n",
       "18           preschool            service  <=50k                  17\n",
       "19           preschool            unknown  <=50k                   5\n",
       "20           preschool       white collar  <=50k                   3\n",
       "21             primary        blue collar  <=50k                 634\n",
       "22             primary        blue collar   >50k                  40\n",
       "23             primary            service  <=50k                 243\n",
       "24             primary            service   >50k                   1\n",
       "25             primary            unknown  <=50k                 111\n",
       "26             primary            unknown   >50k                   4\n",
       "27             primary       white collar  <=50k                  93\n",
       "28             primary       white collar   >50k                  17\n",
       "29         samecollege        blue collar  <=50k                1503\n",
       "30         samecollege        blue collar   >50k                 397\n",
       "31         samecollege           miritary  <=50k                   2\n",
       "32         samecollege            service  <=50k                 902\n",
       "33         samecollege            service   >50k                  95\n",
       "34         samecollege            unknown  <=50k                 481\n",
       "35         samecollege            unknown   >50k                  35\n",
       "36         samecollege       white collar  <=50k                3004\n",
       "37         samecollege       white collar   >50k                 858\n",
       "38           secondary        blue collar  <=50k                1349\n",
       "39           secondary        blue collar   >50k                 116\n",
       "40           secondary           miritary  <=50k                   1\n",
       "41           secondary            service  <=50k                 663\n",
       "42           secondary            service   >50k                  12\n",
       "43           secondary            unknown  <=50k                 307\n",
       "44           secondary            unknown   >50k                   5\n",
       "45           secondary       white collar  <=50k                 552\n",
       "46           secondary       white collar   >50k                  49\n",
       "47            tertiary        blue collar  <=50k                 375\n",
       "48            tertiary        blue collar   >50k                 183\n",
       "49            tertiary           miritary  <=50k                   1\n",
       "50            tertiary           miritary   >50k                   1\n",
       "51            tertiary            service  <=50k                 232\n",
       "52            tertiary            service   >50k                  97\n",
       "53            tertiary            unknown  <=50k                 172\n",
       "54            tertiary            unknown   >50k                  82\n",
       "55            tertiary       white collar  <=50k                3369\n",
       "56            tertiary       white collar   >50k                3545"
      ]
     },
     "execution_count": 168,
     "metadata": {},
     "output_type": "execute_result"
    }
   ],
   "source": [
    "adult_df_income_educ_occ= adult_df.groupby(['education_level','occupation_grouped','income']).size().reset_index(name='total_income_distr')\n",
    "adult_df_income_educ_occ"
   ]
  },
  {
   "cell_type": "code",
   "execution_count": 197,
   "id": "a4cd60a1-805d-4130-b2ac-c339c3ea531c",
   "metadata": {},
   "outputs": [
    {
     "data": {
      "text/html": [
       "<div>\n",
       "<style scoped>\n",
       "    .dataframe tbody tr th:only-of-type {\n",
       "        vertical-align: middle;\n",
       "    }\n",
       "\n",
       "    .dataframe tbody tr th {\n",
       "        vertical-align: top;\n",
       "    }\n",
       "\n",
       "    .dataframe thead th {\n",
       "        text-align: right;\n",
       "    }\n",
       "</style>\n",
       "<table border=\"1\" class=\"dataframe\">\n",
       "  <thead>\n",
       "    <tr style=\"text-align: right;\">\n",
       "      <th></th>\n",
       "      <th>education_level</th>\n",
       "      <th>occupation_grouped</th>\n",
       "      <th>income</th>\n",
       "      <th>total_income_distr</th>\n",
       "      <th>edu_occ</th>\n",
       "    </tr>\n",
       "  </thead>\n",
       "  <tbody>\n",
       "    <tr>\n",
       "      <th>0</th>\n",
       "      <td>associate</td>\n",
       "      <td>blue collar</td>\n",
       "      <td>&lt;=50k</td>\n",
       "      <td>482</td>\n",
       "      <td>associate|blue collar</td>\n",
       "    </tr>\n",
       "    <tr>\n",
       "      <th>1</th>\n",
       "      <td>associate</td>\n",
       "      <td>blue collar</td>\n",
       "      <td>&gt;50k</td>\n",
       "      <td>166</td>\n",
       "      <td>associate|blue collar</td>\n",
       "    </tr>\n",
       "    <tr>\n",
       "      <th>2</th>\n",
       "      <td>associate</td>\n",
       "      <td>service</td>\n",
       "      <td>&lt;=50k</td>\n",
       "      <td>237</td>\n",
       "      <td>associate|service</td>\n",
       "    </tr>\n",
       "    <tr>\n",
       "      <th>3</th>\n",
       "      <td>associate</td>\n",
       "      <td>service</td>\n",
       "      <td>&gt;50k</td>\n",
       "      <td>44</td>\n",
       "      <td>associate|service</td>\n",
       "    </tr>\n",
       "    <tr>\n",
       "      <th>4</th>\n",
       "      <td>associate</td>\n",
       "      <td>unknown</td>\n",
       "      <td>&lt;=50k</td>\n",
       "      <td>89</td>\n",
       "      <td>associate|unknown</td>\n",
       "    </tr>\n",
       "    <tr>\n",
       "      <th>5</th>\n",
       "      <td>associate</td>\n",
       "      <td>unknown</td>\n",
       "      <td>&gt;50k</td>\n",
       "      <td>19</td>\n",
       "      <td>associate|unknown</td>\n",
       "    </tr>\n",
       "    <tr>\n",
       "      <th>6</th>\n",
       "      <td>associate</td>\n",
       "      <td>white collar</td>\n",
       "      <td>&lt;=50k</td>\n",
       "      <td>1015</td>\n",
       "      <td>associate|white collar</td>\n",
       "    </tr>\n",
       "    <tr>\n",
       "      <th>7</th>\n",
       "      <td>associate</td>\n",
       "      <td>white collar</td>\n",
       "      <td>&gt;50k</td>\n",
       "      <td>397</td>\n",
       "      <td>associate|white collar</td>\n",
       "    </tr>\n",
       "    <tr>\n",
       "      <th>8</th>\n",
       "      <td>highschoolgraduate</td>\n",
       "      <td>blue collar</td>\n",
       "      <td>&lt;=50k</td>\n",
       "      <td>3976</td>\n",
       "      <td>highschoolgraduate|blue collar</td>\n",
       "    </tr>\n",
       "    <tr>\n",
       "      <th>9</th>\n",
       "      <td>highschoolgraduate</td>\n",
       "      <td>blue collar</td>\n",
       "      <td>&gt;50k</td>\n",
       "      <td>796</td>\n",
       "      <td>highschoolgraduate|blue collar</td>\n",
       "    </tr>\n",
       "    <tr>\n",
       "      <th>10</th>\n",
       "      <td>highschoolgraduate</td>\n",
       "      <td>miritary</td>\n",
       "      <td>&lt;=50k</td>\n",
       "      <td>4</td>\n",
       "      <td>highschoolgraduate|miritary</td>\n",
       "    </tr>\n",
       "    <tr>\n",
       "      <th>11</th>\n",
       "      <td>highschoolgraduate</td>\n",
       "      <td>service</td>\n",
       "      <td>&lt;=50k</td>\n",
       "      <td>1444</td>\n",
       "      <td>highschoolgraduate|service</td>\n",
       "    </tr>\n",
       "    <tr>\n",
       "      <th>12</th>\n",
       "      <td>highschoolgraduate</td>\n",
       "      <td>service</td>\n",
       "      <td>&gt;50k</td>\n",
       "      <td>100</td>\n",
       "      <td>highschoolgraduate|service</td>\n",
       "    </tr>\n",
       "    <tr>\n",
       "      <th>13</th>\n",
       "      <td>highschoolgraduate</td>\n",
       "      <td>unknown</td>\n",
       "      <td>&lt;=50k</td>\n",
       "      <td>487</td>\n",
       "      <td>highschoolgraduate|unknown</td>\n",
       "    </tr>\n",
       "    <tr>\n",
       "      <th>14</th>\n",
       "      <td>highschoolgraduate</td>\n",
       "      <td>unknown</td>\n",
       "      <td>&gt;50k</td>\n",
       "      <td>46</td>\n",
       "      <td>highschoolgraduate|unknown</td>\n",
       "    </tr>\n",
       "    <tr>\n",
       "      <th>15</th>\n",
       "      <td>highschoolgraduate</td>\n",
       "      <td>white collar</td>\n",
       "      <td>&lt;=50k</td>\n",
       "      <td>2900</td>\n",
       "      <td>highschoolgraduate|white collar</td>\n",
       "    </tr>\n",
       "    <tr>\n",
       "      <th>16</th>\n",
       "      <td>highschoolgraduate</td>\n",
       "      <td>white collar</td>\n",
       "      <td>&gt;50k</td>\n",
       "      <td>731</td>\n",
       "      <td>highschoolgraduate|white collar</td>\n",
       "    </tr>\n",
       "    <tr>\n",
       "      <th>17</th>\n",
       "      <td>preschool</td>\n",
       "      <td>blue collar</td>\n",
       "      <td>&lt;=50k</td>\n",
       "      <td>25</td>\n",
       "      <td>preschool|blue collar</td>\n",
       "    </tr>\n",
       "    <tr>\n",
       "      <th>18</th>\n",
       "      <td>preschool</td>\n",
       "      <td>service</td>\n",
       "      <td>&lt;=50k</td>\n",
       "      <td>17</td>\n",
       "      <td>preschool|service</td>\n",
       "    </tr>\n",
       "    <tr>\n",
       "      <th>19</th>\n",
       "      <td>preschool</td>\n",
       "      <td>unknown</td>\n",
       "      <td>&lt;=50k</td>\n",
       "      <td>5</td>\n",
       "      <td>preschool|unknown</td>\n",
       "    </tr>\n",
       "    <tr>\n",
       "      <th>20</th>\n",
       "      <td>preschool</td>\n",
       "      <td>white collar</td>\n",
       "      <td>&lt;=50k</td>\n",
       "      <td>3</td>\n",
       "      <td>preschool|white collar</td>\n",
       "    </tr>\n",
       "    <tr>\n",
       "      <th>21</th>\n",
       "      <td>primary</td>\n",
       "      <td>blue collar</td>\n",
       "      <td>&lt;=50k</td>\n",
       "      <td>634</td>\n",
       "      <td>primary|blue collar</td>\n",
       "    </tr>\n",
       "    <tr>\n",
       "      <th>22</th>\n",
       "      <td>primary</td>\n",
       "      <td>blue collar</td>\n",
       "      <td>&gt;50k</td>\n",
       "      <td>40</td>\n",
       "      <td>primary|blue collar</td>\n",
       "    </tr>\n",
       "    <tr>\n",
       "      <th>23</th>\n",
       "      <td>primary</td>\n",
       "      <td>service</td>\n",
       "      <td>&lt;=50k</td>\n",
       "      <td>243</td>\n",
       "      <td>primary|service</td>\n",
       "    </tr>\n",
       "    <tr>\n",
       "      <th>24</th>\n",
       "      <td>primary</td>\n",
       "      <td>service</td>\n",
       "      <td>&gt;50k</td>\n",
       "      <td>1</td>\n",
       "      <td>primary|service</td>\n",
       "    </tr>\n",
       "    <tr>\n",
       "      <th>25</th>\n",
       "      <td>primary</td>\n",
       "      <td>unknown</td>\n",
       "      <td>&lt;=50k</td>\n",
       "      <td>111</td>\n",
       "      <td>primary|unknown</td>\n",
       "    </tr>\n",
       "    <tr>\n",
       "      <th>26</th>\n",
       "      <td>primary</td>\n",
       "      <td>unknown</td>\n",
       "      <td>&gt;50k</td>\n",
       "      <td>4</td>\n",
       "      <td>primary|unknown</td>\n",
       "    </tr>\n",
       "    <tr>\n",
       "      <th>27</th>\n",
       "      <td>primary</td>\n",
       "      <td>white collar</td>\n",
       "      <td>&lt;=50k</td>\n",
       "      <td>93</td>\n",
       "      <td>primary|white collar</td>\n",
       "    </tr>\n",
       "    <tr>\n",
       "      <th>28</th>\n",
       "      <td>primary</td>\n",
       "      <td>white collar</td>\n",
       "      <td>&gt;50k</td>\n",
       "      <td>17</td>\n",
       "      <td>primary|white collar</td>\n",
       "    </tr>\n",
       "    <tr>\n",
       "      <th>29</th>\n",
       "      <td>samecollege</td>\n",
       "      <td>blue collar</td>\n",
       "      <td>&lt;=50k</td>\n",
       "      <td>1503</td>\n",
       "      <td>samecollege|blue collar</td>\n",
       "    </tr>\n",
       "    <tr>\n",
       "      <th>30</th>\n",
       "      <td>samecollege</td>\n",
       "      <td>blue collar</td>\n",
       "      <td>&gt;50k</td>\n",
       "      <td>397</td>\n",
       "      <td>samecollege|blue collar</td>\n",
       "    </tr>\n",
       "    <tr>\n",
       "      <th>31</th>\n",
       "      <td>samecollege</td>\n",
       "      <td>miritary</td>\n",
       "      <td>&lt;=50k</td>\n",
       "      <td>2</td>\n",
       "      <td>samecollege|miritary</td>\n",
       "    </tr>\n",
       "    <tr>\n",
       "      <th>32</th>\n",
       "      <td>samecollege</td>\n",
       "      <td>service</td>\n",
       "      <td>&lt;=50k</td>\n",
       "      <td>902</td>\n",
       "      <td>samecollege|service</td>\n",
       "    </tr>\n",
       "    <tr>\n",
       "      <th>33</th>\n",
       "      <td>samecollege</td>\n",
       "      <td>service</td>\n",
       "      <td>&gt;50k</td>\n",
       "      <td>95</td>\n",
       "      <td>samecollege|service</td>\n",
       "    </tr>\n",
       "    <tr>\n",
       "      <th>34</th>\n",
       "      <td>samecollege</td>\n",
       "      <td>unknown</td>\n",
       "      <td>&lt;=50k</td>\n",
       "      <td>481</td>\n",
       "      <td>samecollege|unknown</td>\n",
       "    </tr>\n",
       "    <tr>\n",
       "      <th>35</th>\n",
       "      <td>samecollege</td>\n",
       "      <td>unknown</td>\n",
       "      <td>&gt;50k</td>\n",
       "      <td>35</td>\n",
       "      <td>samecollege|unknown</td>\n",
       "    </tr>\n",
       "    <tr>\n",
       "      <th>36</th>\n",
       "      <td>samecollege</td>\n",
       "      <td>white collar</td>\n",
       "      <td>&lt;=50k</td>\n",
       "      <td>3004</td>\n",
       "      <td>samecollege|white collar</td>\n",
       "    </tr>\n",
       "    <tr>\n",
       "      <th>37</th>\n",
       "      <td>samecollege</td>\n",
       "      <td>white collar</td>\n",
       "      <td>&gt;50k</td>\n",
       "      <td>858</td>\n",
       "      <td>samecollege|white collar</td>\n",
       "    </tr>\n",
       "    <tr>\n",
       "      <th>38</th>\n",
       "      <td>secondary</td>\n",
       "      <td>blue collar</td>\n",
       "      <td>&lt;=50k</td>\n",
       "      <td>1349</td>\n",
       "      <td>secondary|blue collar</td>\n",
       "    </tr>\n",
       "    <tr>\n",
       "      <th>39</th>\n",
       "      <td>secondary</td>\n",
       "      <td>blue collar</td>\n",
       "      <td>&gt;50k</td>\n",
       "      <td>116</td>\n",
       "      <td>secondary|blue collar</td>\n",
       "    </tr>\n",
       "    <tr>\n",
       "      <th>40</th>\n",
       "      <td>secondary</td>\n",
       "      <td>miritary</td>\n",
       "      <td>&lt;=50k</td>\n",
       "      <td>1</td>\n",
       "      <td>secondary|miritary</td>\n",
       "    </tr>\n",
       "    <tr>\n",
       "      <th>41</th>\n",
       "      <td>secondary</td>\n",
       "      <td>service</td>\n",
       "      <td>&lt;=50k</td>\n",
       "      <td>663</td>\n",
       "      <td>secondary|service</td>\n",
       "    </tr>\n",
       "    <tr>\n",
       "      <th>42</th>\n",
       "      <td>secondary</td>\n",
       "      <td>service</td>\n",
       "      <td>&gt;50k</td>\n",
       "      <td>12</td>\n",
       "      <td>secondary|service</td>\n",
       "    </tr>\n",
       "    <tr>\n",
       "      <th>43</th>\n",
       "      <td>secondary</td>\n",
       "      <td>unknown</td>\n",
       "      <td>&lt;=50k</td>\n",
       "      <td>307</td>\n",
       "      <td>secondary|unknown</td>\n",
       "    </tr>\n",
       "    <tr>\n",
       "      <th>44</th>\n",
       "      <td>secondary</td>\n",
       "      <td>unknown</td>\n",
       "      <td>&gt;50k</td>\n",
       "      <td>5</td>\n",
       "      <td>secondary|unknown</td>\n",
       "    </tr>\n",
       "    <tr>\n",
       "      <th>45</th>\n",
       "      <td>secondary</td>\n",
       "      <td>white collar</td>\n",
       "      <td>&lt;=50k</td>\n",
       "      <td>552</td>\n",
       "      <td>secondary|white collar</td>\n",
       "    </tr>\n",
       "    <tr>\n",
       "      <th>46</th>\n",
       "      <td>secondary</td>\n",
       "      <td>white collar</td>\n",
       "      <td>&gt;50k</td>\n",
       "      <td>49</td>\n",
       "      <td>secondary|white collar</td>\n",
       "    </tr>\n",
       "    <tr>\n",
       "      <th>47</th>\n",
       "      <td>tertiary</td>\n",
       "      <td>blue collar</td>\n",
       "      <td>&lt;=50k</td>\n",
       "      <td>375</td>\n",
       "      <td>tertiary|blue collar</td>\n",
       "    </tr>\n",
       "    <tr>\n",
       "      <th>48</th>\n",
       "      <td>tertiary</td>\n",
       "      <td>blue collar</td>\n",
       "      <td>&gt;50k</td>\n",
       "      <td>183</td>\n",
       "      <td>tertiary|blue collar</td>\n",
       "    </tr>\n",
       "    <tr>\n",
       "      <th>49</th>\n",
       "      <td>tertiary</td>\n",
       "      <td>miritary</td>\n",
       "      <td>&lt;=50k</td>\n",
       "      <td>1</td>\n",
       "      <td>tertiary|miritary</td>\n",
       "    </tr>\n",
       "    <tr>\n",
       "      <th>50</th>\n",
       "      <td>tertiary</td>\n",
       "      <td>miritary</td>\n",
       "      <td>&gt;50k</td>\n",
       "      <td>1</td>\n",
       "      <td>tertiary|miritary</td>\n",
       "    </tr>\n",
       "    <tr>\n",
       "      <th>51</th>\n",
       "      <td>tertiary</td>\n",
       "      <td>service</td>\n",
       "      <td>&lt;=50k</td>\n",
       "      <td>232</td>\n",
       "      <td>tertiary|service</td>\n",
       "    </tr>\n",
       "    <tr>\n",
       "      <th>52</th>\n",
       "      <td>tertiary</td>\n",
       "      <td>service</td>\n",
       "      <td>&gt;50k</td>\n",
       "      <td>97</td>\n",
       "      <td>tertiary|service</td>\n",
       "    </tr>\n",
       "    <tr>\n",
       "      <th>53</th>\n",
       "      <td>tertiary</td>\n",
       "      <td>unknown</td>\n",
       "      <td>&lt;=50k</td>\n",
       "      <td>172</td>\n",
       "      <td>tertiary|unknown</td>\n",
       "    </tr>\n",
       "    <tr>\n",
       "      <th>54</th>\n",
       "      <td>tertiary</td>\n",
       "      <td>unknown</td>\n",
       "      <td>&gt;50k</td>\n",
       "      <td>82</td>\n",
       "      <td>tertiary|unknown</td>\n",
       "    </tr>\n",
       "    <tr>\n",
       "      <th>55</th>\n",
       "      <td>tertiary</td>\n",
       "      <td>white collar</td>\n",
       "      <td>&lt;=50k</td>\n",
       "      <td>3369</td>\n",
       "      <td>tertiary|white collar</td>\n",
       "    </tr>\n",
       "    <tr>\n",
       "      <th>56</th>\n",
       "      <td>tertiary</td>\n",
       "      <td>white collar</td>\n",
       "      <td>&gt;50k</td>\n",
       "      <td>3545</td>\n",
       "      <td>tertiary|white collar</td>\n",
       "    </tr>\n",
       "  </tbody>\n",
       "</table>\n",
       "</div>"
      ],
      "text/plain": [
       "       education_level occupation_grouped income  total_income_distr  \\\n",
       "0            associate        blue collar  <=50k                 482   \n",
       "1            associate        blue collar   >50k                 166   \n",
       "2            associate            service  <=50k                 237   \n",
       "3            associate            service   >50k                  44   \n",
       "4            associate            unknown  <=50k                  89   \n",
       "5            associate            unknown   >50k                  19   \n",
       "6            associate       white collar  <=50k                1015   \n",
       "7            associate       white collar   >50k                 397   \n",
       "8   highschoolgraduate        blue collar  <=50k                3976   \n",
       "9   highschoolgraduate        blue collar   >50k                 796   \n",
       "10  highschoolgraduate           miritary  <=50k                   4   \n",
       "11  highschoolgraduate            service  <=50k                1444   \n",
       "12  highschoolgraduate            service   >50k                 100   \n",
       "13  highschoolgraduate            unknown  <=50k                 487   \n",
       "14  highschoolgraduate            unknown   >50k                  46   \n",
       "15  highschoolgraduate       white collar  <=50k                2900   \n",
       "16  highschoolgraduate       white collar   >50k                 731   \n",
       "17           preschool        blue collar  <=50k                  25   \n",
       "18           preschool            service  <=50k                  17   \n",
       "19           preschool            unknown  <=50k                   5   \n",
       "20           preschool       white collar  <=50k                   3   \n",
       "21             primary        blue collar  <=50k                 634   \n",
       "22             primary        blue collar   >50k                  40   \n",
       "23             primary            service  <=50k                 243   \n",
       "24             primary            service   >50k                   1   \n",
       "25             primary            unknown  <=50k                 111   \n",
       "26             primary            unknown   >50k                   4   \n",
       "27             primary       white collar  <=50k                  93   \n",
       "28             primary       white collar   >50k                  17   \n",
       "29         samecollege        blue collar  <=50k                1503   \n",
       "30         samecollege        blue collar   >50k                 397   \n",
       "31         samecollege           miritary  <=50k                   2   \n",
       "32         samecollege            service  <=50k                 902   \n",
       "33         samecollege            service   >50k                  95   \n",
       "34         samecollege            unknown  <=50k                 481   \n",
       "35         samecollege            unknown   >50k                  35   \n",
       "36         samecollege       white collar  <=50k                3004   \n",
       "37         samecollege       white collar   >50k                 858   \n",
       "38           secondary        blue collar  <=50k                1349   \n",
       "39           secondary        blue collar   >50k                 116   \n",
       "40           secondary           miritary  <=50k                   1   \n",
       "41           secondary            service  <=50k                 663   \n",
       "42           secondary            service   >50k                  12   \n",
       "43           secondary            unknown  <=50k                 307   \n",
       "44           secondary            unknown   >50k                   5   \n",
       "45           secondary       white collar  <=50k                 552   \n",
       "46           secondary       white collar   >50k                  49   \n",
       "47            tertiary        blue collar  <=50k                 375   \n",
       "48            tertiary        blue collar   >50k                 183   \n",
       "49            tertiary           miritary  <=50k                   1   \n",
       "50            tertiary           miritary   >50k                   1   \n",
       "51            tertiary            service  <=50k                 232   \n",
       "52            tertiary            service   >50k                  97   \n",
       "53            tertiary            unknown  <=50k                 172   \n",
       "54            tertiary            unknown   >50k                  82   \n",
       "55            tertiary       white collar  <=50k                3369   \n",
       "56            tertiary       white collar   >50k                3545   \n",
       "\n",
       "                            edu_occ  \n",
       "0             associate|blue collar  \n",
       "1             associate|blue collar  \n",
       "2                 associate|service  \n",
       "3                 associate|service  \n",
       "4                 associate|unknown  \n",
       "5                 associate|unknown  \n",
       "6            associate|white collar  \n",
       "7            associate|white collar  \n",
       "8    highschoolgraduate|blue collar  \n",
       "9    highschoolgraduate|blue collar  \n",
       "10      highschoolgraduate|miritary  \n",
       "11       highschoolgraduate|service  \n",
       "12       highschoolgraduate|service  \n",
       "13       highschoolgraduate|unknown  \n",
       "14       highschoolgraduate|unknown  \n",
       "15  highschoolgraduate|white collar  \n",
       "16  highschoolgraduate|white collar  \n",
       "17            preschool|blue collar  \n",
       "18                preschool|service  \n",
       "19                preschool|unknown  \n",
       "20           preschool|white collar  \n",
       "21              primary|blue collar  \n",
       "22              primary|blue collar  \n",
       "23                  primary|service  \n",
       "24                  primary|service  \n",
       "25                  primary|unknown  \n",
       "26                  primary|unknown  \n",
       "27             primary|white collar  \n",
       "28             primary|white collar  \n",
       "29          samecollege|blue collar  \n",
       "30          samecollege|blue collar  \n",
       "31             samecollege|miritary  \n",
       "32              samecollege|service  \n",
       "33              samecollege|service  \n",
       "34              samecollege|unknown  \n",
       "35              samecollege|unknown  \n",
       "36         samecollege|white collar  \n",
       "37         samecollege|white collar  \n",
       "38            secondary|blue collar  \n",
       "39            secondary|blue collar  \n",
       "40               secondary|miritary  \n",
       "41                secondary|service  \n",
       "42                secondary|service  \n",
       "43                secondary|unknown  \n",
       "44                secondary|unknown  \n",
       "45           secondary|white collar  \n",
       "46           secondary|white collar  \n",
       "47             tertiary|blue collar  \n",
       "48             tertiary|blue collar  \n",
       "49                tertiary|miritary  \n",
       "50                tertiary|miritary  \n",
       "51                 tertiary|service  \n",
       "52                 tertiary|service  \n",
       "53                 tertiary|unknown  \n",
       "54                 tertiary|unknown  \n",
       "55            tertiary|white collar  \n",
       "56            tertiary|white collar  "
      ]
     },
     "execution_count": 197,
     "metadata": {},
     "output_type": "execute_result"
    }
   ],
   "source": [
    "# total_per_allrace=adult_df_income_race.groupby('race')['total_income_distr'].transform('sum')\n",
    "# adult_df_income_race['percentage']=(adult_df_income_race['total_income_distr']/total_per_allrace)*100\n",
    "# adult_df_income_race\n",
    "adult_df_income_educ_occ['edu_occ']=(adult_df_income_educ_occ['education_level']+'|'\n",
    "                                     +adult_df_income_educ_occ['occupation_grouped'])\n",
    "adult_df_income_educ_occ                          "
   ]
  },
  {
   "cell_type": "code",
   "execution_count": 315,
   "id": "cd18a47a-1ebd-48ff-8b8d-b8ea469c8a63",
   "metadata": {},
   "outputs": [
    {
     "data": {
      "application/vnd.plotly.v1+json": {
       "config": {
        "plotlyServerURL": "https://plot.ly"
       },
       "data": [
        {
         "hovertemplate": "income=<=50k<br>total_income_distr=%{text}<br>edu_occ=%{y}<extra></extra>",
         "legendgroup": "<=50k",
         "marker": {
          "color": "rgb(103,0,31)",
          "pattern": {
           "shape": ""
          }
         },
         "name": "<=50k",
         "orientation": "h",
         "showlegend": true,
         "text": {
          "_inputArray": {
           "0": 482,
           "1": 237,
           "2": 89,
           "3": 1015,
           "4": 3976,
           "5": 4,
           "6": 1444,
           "7": 487,
           "bdata": "AAAAAAAgfkAAAAAAAKBtQAAAAAAAQFZAAAAAAAC4j0AAAAAAABCvQAAAAAAAABBAAAAAAACQlkAAAAAAAHB+QA==",
           "dtype": "f8",
           "shape": "8"
          },
          "bdata": "AAAAAAAgfkAAAAAAAKBtQAAAAAAAQFZAAAAAAAC4j0AAAAAAABCvQAAAAAAAABBAAAAAAACQlkAAAAAAAHB+QA==",
          "dtype": "f8"
         },
         "textposition": "outside",
         "texttemplate": "%{text:.2f}%",
         "type": "bar",
         "x": {
          "_inputArray": {
           "0": 482,
           "1": 237,
           "2": 89,
           "3": 1015,
           "4": 3976,
           "5": 4,
           "6": 1444,
           "7": 487,
           "bdata": "4gHtAFkA9wOIDwQApAXnAQ==",
           "dtype": "i2",
           "shape": "8"
          },
          "bdata": "4gHtAFkA9wOIDwQApAXnAQ==",
          "dtype": "i2"
         },
         "xaxis": "x",
         "y": [
          "associate|blue collar",
          "associate|service",
          "associate|unknown",
          "associate|white collar",
          "highschoolgraduate|blue collar",
          "highschoolgraduate|miritary",
          "highschoolgraduate|service",
          "highschoolgraduate|unknown"
         ],
         "yaxis": "y"
        },
        {
         "hovertemplate": "income=>50k<br>total_income_distr=%{text}<br>edu_occ=%{y}<extra></extra>",
         "legendgroup": ">50k",
         "marker": {
          "color": "rgb(178,24,43)",
          "pattern": {
           "shape": ""
          }
         },
         "name": ">50k",
         "orientation": "h",
         "showlegend": true,
         "text": {
          "_inputArray": {
           "0": 166,
           "1": 44,
           "2": 19,
           "3": 397,
           "4": 796,
           "5": 100,
           "6": 46,
           "bdata": "AAAAAADAZEAAAAAAAABGQAAAAAAAADNAAAAAAADQeEAAAAAAAOCIQAAAAAAAAFlAAAAAAAAAR0A=",
           "dtype": "f8",
           "shape": "7"
          },
          "bdata": "AAAAAADAZEAAAAAAAABGQAAAAAAAADNAAAAAAADQeEAAAAAAAOCIQAAAAAAAAFlAAAAAAAAAR0A=",
          "dtype": "f8"
         },
         "textposition": "outside",
         "texttemplate": "%{text:.2f}%",
         "type": "bar",
         "x": {
          "_inputArray": {
           "0": 166,
           "1": 44,
           "2": 19,
           "3": 397,
           "4": 796,
           "5": 100,
           "6": 46,
           "bdata": "pgAsABMAjQEcA2QALgA=",
           "dtype": "i2",
           "shape": "7"
          },
          "bdata": "pgAsABMAjQEcA2QALgA=",
          "dtype": "i2"
         },
         "xaxis": "x",
         "y": [
          "associate|blue collar",
          "associate|service",
          "associate|unknown",
          "associate|white collar",
          "highschoolgraduate|blue collar",
          "highschoolgraduate|service",
          "highschoolgraduate|unknown"
         ],
         "yaxis": "y"
        }
       ],
       "layout": {
        "barmode": "relative",
        "height": 500,
        "legend": {
         "title": {
          "text": "total_income_distr"
         },
         "tracegroupgap": 0
        },
        "margin": {
         "b": 50,
         "l": 400,
         "r": 50,
         "t": 50
        },
        "template": {
         "data": {
          "pie": [
           {
            "automargin": true,
            "type": "pie"
           }
          ],
          "scatter": [
           {
            "line": {
             "width": 3
            },
            "marker": {
             "size": 9
            },
            "type": "scatter"
           }
          ],
          "scatter3d": [
           {
            "line": {
             "width": 3
            },
            "marker": {
             "size": 9
            },
            "type": "scatter3d"
           }
          ],
          "scattergeo": [
           {
            "line": {
             "width": 3
            },
            "marker": {
             "size": 9
            },
            "type": "scattergeo"
           }
          ],
          "scattergl": [
           {
            "line": {
             "width": 3
            },
            "marker": {
             "size": 9
            },
            "type": "scattergl"
           }
          ],
          "scatterpolar": [
           {
            "line": {
             "width": 3
            },
            "marker": {
             "size": 9
            },
            "type": "scatterpolar"
           }
          ],
          "scatterpolargl": [
           {
            "line": {
             "width": 3
            },
            "marker": {
             "size": 9
            },
            "type": "scatterpolargl"
           }
          ],
          "scatterternary": [
           {
            "line": {
             "width": 3
            },
            "marker": {
             "size": 9
            },
            "type": "scatterternary"
           }
          ],
          "table": [
           {
            "cells": {
             "height": 30
            },
            "header": {
             "height": 36
            },
            "type": "table"
           }
          ]
         },
         "layout": {
          "font": {
           "size": 18
          },
          "xaxis": {
           "title": {
            "standoff": 15
           }
          },
          "yaxis": {
           "title": {
            "standoff": 15
           }
          }
         }
        },
        "title": {
         "text": "Top 15 Education and occupation Groups combination(%)"
        },
        "width": 1000,
        "xaxis": {
         "anchor": "y",
         "autorange": true,
         "domain": [
          0,
          1
         ],
         "range": [
          0,
          5023.1578947368425
         ],
         "title": {
          "text": "Numbers of individuals"
         },
         "type": "linear"
        },
        "yaxis": {
         "anchor": "x",
         "autorange": true,
         "domain": [
          0,
          1
         ],
         "range": [
          -0.5,
          7.5
         ],
         "title": {
          "text": "Education | Occupation Group"
         },
         "type": "category"
        }
       }
      },
      "image/png": "[encoded data removed]"
     },
     "metadata": {},
     "output_type": "display_data"
    }
   ],
   "source": [
    "# num=15\n",
    "# adult_df_combos = adult_df_income_edu_occ.head(num)\n",
    "# fig = px.bar(\n",
    "#     adult_df_combos,\n",
    "#     x = 'total',\n",
    "#     y = 'edu_occ',\n",
    "#     color = 'income',\n",
    "#     orientation = 'h',\n",
    "#     title = f'Top{num} Education and Occupation Groups Combinations by Income Group',\n",
    "#     # barmode = 'group',\n",
    "#     height = 500,\n",
    "#     width=1100,\n",
    "#    color_discrete_sequence=[\"teal\",\"LightSeaGreen\"],\n",
    "#     text = 'total'\n",
    "# )\n",
    "\n",
    "# fig.update_layout(template=\"presentation\", xaxis_title='Number of Individuals',\n",
    "#                   yaxis_title='Education | Occupation Group',\n",
    "#                   legend_title=dict(text='Income Level'),\n",
    "#                 margin=dict(l=450, r=50, t= 50, b=50))\n",
    "\n",
    "num=15\n",
    "adult_df_combos = adult_df_income_educ_occ.head(num)\n",
    "fig= px.bar(\n",
    "    adult_df_combos,\n",
    "    x = 'total_income_distr',\n",
    "    y = 'edu_occ',\n",
    "    color= 'income',\n",
    "    title=f'Top {num} Education and occupation Groups combination(%)',\n",
    "    # barmode = 'group',\n",
    "    height=500,\n",
    "    width=1000,\n",
    "    color_discrete_sequence=px.colors.sequential.RdBu,\n",
    "    text='total_income_distr'\n",
    ")\n",
    "fig.update_traces(texttemplate='%{text:.2f}%')\n",
    "fig.update_traces(textposition='outside')\n",
    "fig.update_layout(template=\"presentation\",xaxis_title='Numbers of individuals',\n",
    "                 yaxis_title='Education | Occupation Group',\n",
    "                 legend_title= dict(text='total_income_distr'),\n",
    "                 margin=dict(l=400,t=50, r=50, b=50))\n",
    "fig.show()\n",
    "fig.write_image(os.path.join(results_dir,'income_distribution_education_occupation_chart.jpg'))\n",
    "fig.write_image(os.path.join(results_dir,'income_distribution_education_occupation_chart.png'))\n",
    "fig.write_html(os.path.join(results_dir,'income_distribution_education_occupation_chart.html'))"
   ]
  },
  {
   "cell_type": "code",
   "execution_count": 313,
   "id": "638fc3ae-4bad-4c16-97f5-69579c0d1fd3",
   "metadata": {},
   "outputs": [
    {
     "data": {
      "application/vnd.plotly.v1+json": {
       "config": {
        "plotlyServerURL": "https://plot.ly"
       },
       "data": [
        {
         "hovertemplate": "income=<=50k<br>total_income_distr=%{text}<br>edu_occ=%{y}<extra></extra>",
         "legendgroup": "<=50k",
         "marker": {
          "color": "rgb(103,0,31)",
          "pattern": {
           "shape": ""
          }
         },
         "name": "<=50k",
         "orientation": "h",
         "showlegend": true,
         "text": {
          "_inputArray": {
           "0": 482,
           "1": 237,
           "2": 89,
           "3": 1015,
           "4": 3976,
           "5": 4,
           "6": 1444,
           "7": 487,
           "bdata": "AAAAAAAgfkAAAAAAAKBtQAAAAAAAQFZAAAAAAAC4j0AAAAAAABCvQAAAAAAAABBAAAAAAACQlkAAAAAAAHB+QA==",
           "dtype": "f8",
           "shape": "8"
          },
          "bdata": "AAAAAAAgfkAAAAAAAKBtQAAAAAAAQFZAAAAAAAC4j0AAAAAAABCvQAAAAAAAABBAAAAAAACQlkAAAAAAAHB+QA==",
          "dtype": "f8"
         },
         "textposition": "outside",
         "type": "bar",
         "x": {
          "_inputArray": {
           "0": 482,
           "1": 237,
           "2": 89,
           "3": 1015,
           "4": 3976,
           "5": 4,
           "6": 1444,
           "7": 487,
           "bdata": "4gHtAFkA9wOIDwQApAXnAQ==",
           "dtype": "i2",
           "shape": "8"
          },
          "bdata": "4gHtAFkA9wOIDwQApAXnAQ==",
          "dtype": "i2"
         },
         "xaxis": "x",
         "y": [
          "associate|blue collar",
          "associate|service",
          "associate|unknown",
          "associate|white collar",
          "highschoolgraduate|blue collar",
          "highschoolgraduate|miritary",
          "highschoolgraduate|service",
          "highschoolgraduate|unknown"
         ],
         "yaxis": "y"
        },
        {
         "hovertemplate": "income=>50k<br>total_income_distr=%{text}<br>edu_occ=%{y}<extra></extra>",
         "legendgroup": ">50k",
         "marker": {
          "color": "rgb(178,24,43)",
          "pattern": {
           "shape": ""
          }
         },
         "name": ">50k",
         "orientation": "h",
         "showlegend": true,
         "text": {
          "_inputArray": {
           "0": 166,
           "1": 44,
           "2": 19,
           "3": 397,
           "4": 796,
           "5": 100,
           "6": 46,
           "bdata": "AAAAAADAZEAAAAAAAABGQAAAAAAAADNAAAAAAADQeEAAAAAAAOCIQAAAAAAAAFlAAAAAAAAAR0A=",
           "dtype": "f8",
           "shape": "7"
          },
          "bdata": "AAAAAADAZEAAAAAAAABGQAAAAAAAADNAAAAAAADQeEAAAAAAAOCIQAAAAAAAAFlAAAAAAAAAR0A=",
          "dtype": "f8"
         },
         "textposition": "outside",
         "type": "bar",
         "x": {
          "_inputArray": {
           "0": 166,
           "1": 44,
           "2": 19,
           "3": 397,
           "4": 796,
           "5": 100,
           "6": 46,
           "bdata": "pgAsABMAjQEcA2QALgA=",
           "dtype": "i2",
           "shape": "7"
          },
          "bdata": "pgAsABMAjQEcA2QALgA=",
          "dtype": "i2"
         },
         "xaxis": "x",
         "y": [
          "associate|blue collar",
          "associate|service",
          "associate|unknown",
          "associate|white collar",
          "highschoolgraduate|blue collar",
          "highschoolgraduate|service",
          "highschoolgraduate|unknown"
         ],
         "yaxis": "y"
        }
       ],
       "layout": {
        "barmode": "relative",
        "height": 400,
        "legend": {
         "title": {
          "text": "Income Group"
         },
         "tracegroupgap": 0
        },
        "margin": {
         "b": 50,
         "l": 450,
         "r": 50,
         "t": 50
        },
        "template": {
         "data": {
          "pie": [
           {
            "automargin": true,
            "type": "pie"
           }
          ],
          "scatter": [
           {
            "line": {
             "width": 3
            },
            "marker": {
             "size": 9
            },
            "type": "scatter"
           }
          ],
          "scatter3d": [
           {
            "line": {
             "width": 3
            },
            "marker": {
             "size": 9
            },
            "type": "scatter3d"
           }
          ],
          "scattergeo": [
           {
            "line": {
             "width": 3
            },
            "marker": {
             "size": 9
            },
            "type": "scattergeo"
           }
          ],
          "scattergl": [
           {
            "line": {
             "width": 3
            },
            "marker": {
             "size": 9
            },
            "type": "scattergl"
           }
          ],
          "scatterpolar": [
           {
            "line": {
             "width": 3
            },
            "marker": {
             "size": 9
            },
            "type": "scatterpolar"
           }
          ],
          "scatterpolargl": [
           {
            "line": {
             "width": 3
            },
            "marker": {
             "size": 9
            },
            "type": "scatterpolargl"
           }
          ],
          "scatterternary": [
           {
            "line": {
             "width": 3
            },
            "marker": {
             "size": 9
            },
            "type": "scatterternary"
           }
          ],
          "table": [
           {
            "cells": {
             "height": 30
            },
            "header": {
             "height": 36
            },
            "type": "table"
           }
          ]
         },
         "layout": {
          "font": {
           "size": 18
          },
          "xaxis": {
           "title": {
            "standoff": 15
           }
          },
          "yaxis": {
           "title": {
            "standoff": 15
           }
          }
         }
        },
        "title": {
         "text": "Top 15 Education and Occupation Groups Combination (%)"
        },
        "width": 1000,
        "xaxis": {
         "anchor": "y",
         "autorange": true,
         "domain": [
          0,
          1
         ],
         "range": [
          0,
          5023.1578947368425
         ],
         "title": {
          "text": "Number of Individuals"
         },
         "type": "linear"
        },
        "yaxis": {
         "anchor": "x",
         "autorange": true,
         "domain": [
          0,
          1
         ],
         "range": [
          -0.5,
          7.5
         ],
         "title": {
          "text": "Education + Occupation Group"
         },
         "type": "category"
        }
       }
      },
      "image/png": "[encoded data removed]"
     },
     "metadata": {},
     "output_type": "display_data"
    }
   ],
   "source": [
    "fig = px.bar(\n",
    "    adult_df_income_educ_occ.head(15),\n",
    "    x='total_income_distr',\n",
    "    y='edu_occ',\n",
    "    color='income',\n",
    "    title='Top 15 Education and Occupation Groups Combination (%)',\n",
    "    # barmode='stack',  # or 'group' — 'start' is not a valid option\n",
    "    height=400,\n",
    "    width=1000,\n",
    "    text='total_income_distr',\n",
    "    color_discrete_sequence=px.colors.sequential.RdBu\n",
    ")\n",
    "\n",
    "# Update trace and layout\n",
    "fig.update_traces(textposition='outside')\n",
    "fig.update_layout(\n",
    "    template=\"presentation\",\n",
    "    xaxis_title='Number of Individuals',\n",
    "    yaxis_title='Education + Occupation Group',\n",
    "    legend_title='Income Group',\n",
    "    margin=dict(l=450, r=50,t=50, b=50)\n",
    ")\n",
    "\n",
    "# Show plot\n",
    "fig.show()"
   ]
  },
  {
   "cell_type": "code",
   "execution_count": null,
   "id": "33ff50e6-cf86-41f6-a97b-7b1e9b69bc6c",
   "metadata": {},
   "outputs": [],
   "source": []
  }
 ],
 "metadata": {
  "kernelspec": {
   "display_name": "Python 3 (ipykernel)",
   "language": "python",
   "name": "python3"
  },
  "language_info": {
   "codemirror_mode": {
    "name": "ipython",
    "version": 3
   },
   "file_extension": ".py",
   "mimetype": "text/x-python",
   "name": "python",
   "nbconvert_exporter": "python",
   "pygments_lexer": "ipython3",
   "version": "3.12.7"
  }
 },
 "nbformat": 4,
 "nbformat_minor": 5
}
